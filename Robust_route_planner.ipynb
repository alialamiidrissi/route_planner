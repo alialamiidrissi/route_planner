{
 "cells": [
  {
   "cell_type": "markdown",
   "metadata": {},
   "source": [
    "**Authors: Ali Alami-Idrissi, Atul Kumar Sinha, Prakhar Srivastava**\n",
    "# Uncertainty-aware Route Planner\n",
    "\n",
    "Classically, journey planners have always provided the user with itineraries that are efficient in terms of both time taken and distance traveled. Gradually they have become more robust with the inclusion of flexible departure/arrival times, preferred number of changes and suggestion of short walk paths in between. However, a key element which still seems missing is taking into account the delays. Despite the numerous technological advances, delays remain a ubiquitous feature for public transportation services and incorporating them into the route-planner would definitely increase their robustness by giving the user a rich array of routes and associated risks to choose from.\n",
    "\n",
    "# Structure\n",
    "\n",
    "The overall layout for the report is as follows:\n",
    "\n",
    "1. <a href='#Data Processing'>Data Processing</a>\n",
    "\n",
    "    a. <a href='#Fetching Data'>Fetching Data</a>\n",
    "    \n",
    "    b. <a href='#Renaming columns'>Renaming columns</a>\n",
    "    \n",
    "    c. <a href='#Keeping only Zurich stations'>Keeping only Zurich stations</a>\n",
    "    \n",
    "    d. <a href='#Computing walking distances'>Computing walking distances</a>\n",
    "    \n",
    "    e. <a href='#Sanitizing input dataframe'>Sanitizing input dataframe</a>\n",
    "    \n",
    "    f. <a href='#Computing delays'>Computing delays</a>\n",
    "    \n",
    "    g. <a href='#Grouping the dataframe'>Grouping the dataframe</a>\n",
    "    \n",
    "    \n",
    "2. <a href='#Creating nodes and edges'>Creating nodes and edges</a>\n",
    "\n",
    "    a. <a href='#Making edges'>Making edges</a>\n",
    "    \n",
    "    b. <a href='#Exploding the dataframe'>Exploding the dataframe</a>\n",
    "    \n",
    "    c. <a href='#Merging walk data and public transport data'>Merging walk data and public transport data</a>\n",
    "    \n",
    "    d. <a href='#Computing statistics'>Computing statistics</a>\n",
    "    \n",
    "    \n",
    "3. <a href='#Building the graph'>Building the graph</a>\n",
    "\n",
    "\n",
    "4. <a href='#Itinerary Generator'>Itinerary Generator</a>\n",
    "\n",
    "\n",
    "5. <a href='#Mapv'>Map visualization</a>\n",
    "\n",
    "\n",
    "6. <a href='#isochrone'>Isochrone map</a>\n",
    "\n",
    "\n",
    "7. <a href='#improv'>Possible improvements</a>"
   ]
  },
  {
   "cell_type": "markdown",
   "metadata": {},
   "source": [
    "## Imports "
   ]
  },
  {
   "cell_type": "code",
   "execution_count": 57,
   "metadata": {},
   "outputs": [
    {
     "name": "stdout",
     "output_type": "stream",
     "text": [
      "The autoreload extension is already loaded. To reload it, use:\n",
      "  %reload_ext autoreload\n"
     ]
    }
   ],
   "source": [
    "%load_ext autoreload\n",
    "%autoreload 2"
   ]
  },
  {
   "cell_type": "code",
   "execution_count": 60,
   "metadata": {},
   "outputs": [
    {
     "data": {
      "text/html": [
       "\n",
       "    <div class=\"bk-root\">\n",
       "        <a href=\"https://bokeh.pydata.org\" target=\"_blank\" class=\"bk-logo bk-logo-small bk-logo-notebook\"></a>\n",
       "        <span id=\"1009\">Loading BokehJS ...</span>\n",
       "    </div>"
      ]
     },
     "metadata": {},
     "output_type": "display_data"
    },
    {
     "data": {
      "application/javascript": [
       "\n",
       "(function(root) {\n",
       "  function now() {\n",
       "    return new Date();\n",
       "  }\n",
       "\n",
       "  var force = true;\n",
       "\n",
       "  if (typeof root._bokeh_onload_callbacks === \"undefined\" || force === true) {\n",
       "    root._bokeh_onload_callbacks = [];\n",
       "    root._bokeh_is_loading = undefined;\n",
       "  }\n",
       "\n",
       "  var JS_MIME_TYPE = 'application/javascript';\n",
       "  var HTML_MIME_TYPE = 'text/html';\n",
       "  var EXEC_MIME_TYPE = 'application/vnd.bokehjs_exec.v0+json';\n",
       "  var CLASS_NAME = 'output_bokeh rendered_html';\n",
       "\n",
       "  /**\n",
       "   * Render data to the DOM node\n",
       "   */\n",
       "  function render(props, node) {\n",
       "    var script = document.createElement(\"script\");\n",
       "    node.appendChild(script);\n",
       "  }\n",
       "\n",
       "  /**\n",
       "   * Handle when an output is cleared or removed\n",
       "   */\n",
       "  function handleClearOutput(event, handle) {\n",
       "    var cell = handle.cell;\n",
       "\n",
       "    var id = cell.output_area._bokeh_element_id;\n",
       "    var server_id = cell.output_area._bokeh_server_id;\n",
       "    // Clean up Bokeh references\n",
       "    if (id != null && id in Bokeh.index) {\n",
       "      Bokeh.index[id].model.document.clear();\n",
       "      delete Bokeh.index[id];\n",
       "    }\n",
       "\n",
       "    if (server_id !== undefined) {\n",
       "      // Clean up Bokeh references\n",
       "      var cmd = \"from bokeh.io.state import curstate; print(curstate().uuid_to_server['\" + server_id + \"'].get_sessions()[0].document.roots[0]._id)\";\n",
       "      cell.notebook.kernel.execute(cmd, {\n",
       "        iopub: {\n",
       "          output: function(msg) {\n",
       "            var id = msg.content.text.trim();\n",
       "            if (id in Bokeh.index) {\n",
       "              Bokeh.index[id].model.document.clear();\n",
       "              delete Bokeh.index[id];\n",
       "            }\n",
       "          }\n",
       "        }\n",
       "      });\n",
       "      // Destroy server and session\n",
       "      var cmd = \"import bokeh.io.notebook as ion; ion.destroy_server('\" + server_id + \"')\";\n",
       "      cell.notebook.kernel.execute(cmd);\n",
       "    }\n",
       "  }\n",
       "\n",
       "  /**\n",
       "   * Handle when a new output is added\n",
       "   */\n",
       "  function handleAddOutput(event, handle) {\n",
       "    var output_area = handle.output_area;\n",
       "    var output = handle.output;\n",
       "\n",
       "    // limit handleAddOutput to display_data with EXEC_MIME_TYPE content only\n",
       "    if ((output.output_type != \"display_data\") || (!output.data.hasOwnProperty(EXEC_MIME_TYPE))) {\n",
       "      return\n",
       "    }\n",
       "\n",
       "    var toinsert = output_area.element.find(\".\" + CLASS_NAME.split(' ')[0]);\n",
       "\n",
       "    if (output.metadata[EXEC_MIME_TYPE][\"id\"] !== undefined) {\n",
       "      toinsert[toinsert.length - 1].firstChild.textContent = output.data[JS_MIME_TYPE];\n",
       "      // store reference to embed id on output_area\n",
       "      output_area._bokeh_element_id = output.metadata[EXEC_MIME_TYPE][\"id\"];\n",
       "    }\n",
       "    if (output.metadata[EXEC_MIME_TYPE][\"server_id\"] !== undefined) {\n",
       "      var bk_div = document.createElement(\"div\");\n",
       "      bk_div.innerHTML = output.data[HTML_MIME_TYPE];\n",
       "      var script_attrs = bk_div.children[0].attributes;\n",
       "      for (var i = 0; i < script_attrs.length; i++) {\n",
       "        toinsert[toinsert.length - 1].firstChild.setAttribute(script_attrs[i].name, script_attrs[i].value);\n",
       "      }\n",
       "      // store reference to server id on output_area\n",
       "      output_area._bokeh_server_id = output.metadata[EXEC_MIME_TYPE][\"server_id\"];\n",
       "    }\n",
       "  }\n",
       "\n",
       "  function register_renderer(events, OutputArea) {\n",
       "\n",
       "    function append_mime(data, metadata, element) {\n",
       "      // create a DOM node to render to\n",
       "      var toinsert = this.create_output_subarea(\n",
       "        metadata,\n",
       "        CLASS_NAME,\n",
       "        EXEC_MIME_TYPE\n",
       "      );\n",
       "      this.keyboard_manager.register_events(toinsert);\n",
       "      // Render to node\n",
       "      var props = {data: data, metadata: metadata[EXEC_MIME_TYPE]};\n",
       "      render(props, toinsert[toinsert.length - 1]);\n",
       "      element.append(toinsert);\n",
       "      return toinsert\n",
       "    }\n",
       "\n",
       "    /* Handle when an output is cleared or removed */\n",
       "    events.on('clear_output.CodeCell', handleClearOutput);\n",
       "    events.on('delete.Cell', handleClearOutput);\n",
       "\n",
       "    /* Handle when a new output is added */\n",
       "    events.on('output_added.OutputArea', handleAddOutput);\n",
       "\n",
       "    /**\n",
       "     * Register the mime type and append_mime function with output_area\n",
       "     */\n",
       "    OutputArea.prototype.register_mime_type(EXEC_MIME_TYPE, append_mime, {\n",
       "      /* Is output safe? */\n",
       "      safe: true,\n",
       "      /* Index of renderer in `output_area.display_order` */\n",
       "      index: 0\n",
       "    });\n",
       "  }\n",
       "\n",
       "  // register the mime type if in Jupyter Notebook environment and previously unregistered\n",
       "  if (root.Jupyter !== undefined) {\n",
       "    var events = require('base/js/events');\n",
       "    var OutputArea = require('notebook/js/outputarea').OutputArea;\n",
       "\n",
       "    if (OutputArea.prototype.mime_types().indexOf(EXEC_MIME_TYPE) == -1) {\n",
       "      register_renderer(events, OutputArea);\n",
       "    }\n",
       "  }\n",
       "\n",
       "  \n",
       "  if (typeof (root._bokeh_timeout) === \"undefined\" || force === true) {\n",
       "    root._bokeh_timeout = Date.now() + 5000;\n",
       "    root._bokeh_failed_load = false;\n",
       "  }\n",
       "\n",
       "  var NB_LOAD_WARNING = {'data': {'text/html':\n",
       "     \"<div style='background-color: #fdd'>\\n\"+\n",
       "     \"<p>\\n\"+\n",
       "     \"BokehJS does not appear to have successfully loaded. If loading BokehJS from CDN, this \\n\"+\n",
       "     \"may be due to a slow or bad network connection. Possible fixes:\\n\"+\n",
       "     \"</p>\\n\"+\n",
       "     \"<ul>\\n\"+\n",
       "     \"<li>re-rerun `output_notebook()` to attempt to load from CDN again, or</li>\\n\"+\n",
       "     \"<li>use INLINE resources instead, as so:</li>\\n\"+\n",
       "     \"</ul>\\n\"+\n",
       "     \"<code>\\n\"+\n",
       "     \"from bokeh.resources import INLINE\\n\"+\n",
       "     \"output_notebook(resources=INLINE)\\n\"+\n",
       "     \"</code>\\n\"+\n",
       "     \"</div>\"}};\n",
       "\n",
       "  function display_loaded() {\n",
       "    var el = document.getElementById(\"1009\");\n",
       "    if (el != null) {\n",
       "      el.textContent = \"BokehJS is loading...\";\n",
       "    }\n",
       "    if (root.Bokeh !== undefined) {\n",
       "      if (el != null) {\n",
       "        el.textContent = \"BokehJS \" + root.Bokeh.version + \" successfully loaded.\";\n",
       "      }\n",
       "    } else if (Date.now() < root._bokeh_timeout) {\n",
       "      setTimeout(display_loaded, 100)\n",
       "    }\n",
       "  }\n",
       "\n",
       "\n",
       "  function run_callbacks() {\n",
       "    try {\n",
       "      root._bokeh_onload_callbacks.forEach(function(callback) {\n",
       "        if (callback != null)\n",
       "          callback();\n",
       "      });\n",
       "    } finally {\n",
       "      delete root._bokeh_onload_callbacks\n",
       "    }\n",
       "    console.debug(\"Bokeh: all callbacks have finished\");\n",
       "  }\n",
       "\n",
       "  function load_libs(css_urls, js_urls, callback) {\n",
       "    if (css_urls == null) css_urls = [];\n",
       "    if (js_urls == null) js_urls = [];\n",
       "\n",
       "    root._bokeh_onload_callbacks.push(callback);\n",
       "    if (root._bokeh_is_loading > 0) {\n",
       "      console.debug(\"Bokeh: BokehJS is being loaded, scheduling callback at\", now());\n",
       "      return null;\n",
       "    }\n",
       "    if (js_urls == null || js_urls.length === 0) {\n",
       "      run_callbacks();\n",
       "      return null;\n",
       "    }\n",
       "    console.debug(\"Bokeh: BokehJS not loaded, scheduling load and callback at\", now());\n",
       "    root._bokeh_is_loading = css_urls.length + js_urls.length;\n",
       "\n",
       "    function on_load() {\n",
       "      root._bokeh_is_loading--;\n",
       "      if (root._bokeh_is_loading === 0) {\n",
       "        console.debug(\"Bokeh: all BokehJS libraries/stylesheets loaded\");\n",
       "        run_callbacks()\n",
       "      }\n",
       "    }\n",
       "\n",
       "    function on_error() {\n",
       "      console.error(\"failed to load \" + url);\n",
       "    }\n",
       "\n",
       "    for (var i = 0; i < css_urls.length; i++) {\n",
       "      var url = css_urls[i];\n",
       "      const element = document.createElement(\"link\");\n",
       "      element.onload = on_load;\n",
       "      element.onerror = on_error;\n",
       "      element.rel = \"stylesheet\";\n",
       "      element.type = \"text/css\";\n",
       "      element.href = url;\n",
       "      console.debug(\"Bokeh: injecting link tag for BokehJS stylesheet: \", url);\n",
       "      document.body.appendChild(element);\n",
       "    }\n",
       "\n",
       "    for (var i = 0; i < js_urls.length; i++) {\n",
       "      var url = js_urls[i];\n",
       "      var element = document.createElement('script');\n",
       "      element.onload = on_load;\n",
       "      element.onerror = on_error;\n",
       "      element.async = false;\n",
       "      element.src = url;\n",
       "      console.debug(\"Bokeh: injecting script tag for BokehJS library: \", url);\n",
       "      document.head.appendChild(element);\n",
       "    }\n",
       "  };var element = document.getElementById(\"1009\");\n",
       "  if (element == null) {\n",
       "    console.error(\"Bokeh: ERROR: autoload.js configured with elementid '1009' but no matching script tag was found. \")\n",
       "    return false;\n",
       "  }\n",
       "\n",
       "  function inject_raw_css(css) {\n",
       "    const element = document.createElement(\"style\");\n",
       "    element.appendChild(document.createTextNode(css));\n",
       "    document.body.appendChild(element);\n",
       "  }\n",
       "\n",
       "  var js_urls = [\"https://cdn.pydata.org/bokeh/release/bokeh-1.2.0.min.js\", \"https://cdn.pydata.org/bokeh/release/bokeh-widgets-1.2.0.min.js\", \"https://cdn.pydata.org/bokeh/release/bokeh-tables-1.2.0.min.js\", \"https://cdn.pydata.org/bokeh/release/bokeh-gl-1.2.0.min.js\"];\n",
       "  var css_urls = [\"https://cdn.pydata.org/bokeh/release/bokeh-1.2.0.min.css\", \"https://cdn.pydata.org/bokeh/release/bokeh-widgets-1.2.0.min.css\", \"https://cdn.pydata.org/bokeh/release/bokeh-tables-1.2.0.min.css\"];\n",
       "\n",
       "  var inline_js = [\n",
       "    function(Bokeh) {\n",
       "      Bokeh.set_log_level(\"info\");\n",
       "    },\n",
       "    \n",
       "    function(Bokeh) {\n",
       "      \n",
       "    },\n",
       "    function(Bokeh) {} // ensure no trailing comma for IE\n",
       "  ];\n",
       "\n",
       "  function run_inline_js() {\n",
       "    \n",
       "    if ((root.Bokeh !== undefined) || (force === true)) {\n",
       "      for (var i = 0; i < inline_js.length; i++) {\n",
       "        inline_js[i].call(root, root.Bokeh);\n",
       "      }if (force === true) {\n",
       "        display_loaded();\n",
       "      }} else if (Date.now() < root._bokeh_timeout) {\n",
       "      setTimeout(run_inline_js, 100);\n",
       "    } else if (!root._bokeh_failed_load) {\n",
       "      console.log(\"Bokeh: BokehJS failed to load within specified timeout.\");\n",
       "      root._bokeh_failed_load = true;\n",
       "    } else if (force !== true) {\n",
       "      var cell = $(document.getElementById(\"1009\")).parents('.cell').data().cell;\n",
       "      cell.output_area.append_execute_result(NB_LOAD_WARNING)\n",
       "    }\n",
       "\n",
       "  }\n",
       "\n",
       "  if (root._bokeh_is_loading === 0) {\n",
       "    console.debug(\"Bokeh: BokehJS loaded, going straight to plotting\");\n",
       "    run_inline_js();\n",
       "  } else {\n",
       "    load_libs(css_urls, js_urls, function() {\n",
       "      console.debug(\"Bokeh: BokehJS plotting callback run at\", now());\n",
       "      run_inline_js();\n",
       "    });\n",
       "  }\n",
       "}(window));"
      ],
      "application/vnd.bokehjs_load.v0+json": "\n(function(root) {\n  function now() {\n    return new Date();\n  }\n\n  var force = true;\n\n  if (typeof root._bokeh_onload_callbacks === \"undefined\" || force === true) {\n    root._bokeh_onload_callbacks = [];\n    root._bokeh_is_loading = undefined;\n  }\n\n  \n\n  \n  if (typeof (root._bokeh_timeout) === \"undefined\" || force === true) {\n    root._bokeh_timeout = Date.now() + 5000;\n    root._bokeh_failed_load = false;\n  }\n\n  var NB_LOAD_WARNING = {'data': {'text/html':\n     \"<div style='background-color: #fdd'>\\n\"+\n     \"<p>\\n\"+\n     \"BokehJS does not appear to have successfully loaded. If loading BokehJS from CDN, this \\n\"+\n     \"may be due to a slow or bad network connection. Possible fixes:\\n\"+\n     \"</p>\\n\"+\n     \"<ul>\\n\"+\n     \"<li>re-rerun `output_notebook()` to attempt to load from CDN again, or</li>\\n\"+\n     \"<li>use INLINE resources instead, as so:</li>\\n\"+\n     \"</ul>\\n\"+\n     \"<code>\\n\"+\n     \"from bokeh.resources import INLINE\\n\"+\n     \"output_notebook(resources=INLINE)\\n\"+\n     \"</code>\\n\"+\n     \"</div>\"}};\n\n  function display_loaded() {\n    var el = document.getElementById(\"1009\");\n    if (el != null) {\n      el.textContent = \"BokehJS is loading...\";\n    }\n    if (root.Bokeh !== undefined) {\n      if (el != null) {\n        el.textContent = \"BokehJS \" + root.Bokeh.version + \" successfully loaded.\";\n      }\n    } else if (Date.now() < root._bokeh_timeout) {\n      setTimeout(display_loaded, 100)\n    }\n  }\n\n\n  function run_callbacks() {\n    try {\n      root._bokeh_onload_callbacks.forEach(function(callback) {\n        if (callback != null)\n          callback();\n      });\n    } finally {\n      delete root._bokeh_onload_callbacks\n    }\n    console.debug(\"Bokeh: all callbacks have finished\");\n  }\n\n  function load_libs(css_urls, js_urls, callback) {\n    if (css_urls == null) css_urls = [];\n    if (js_urls == null) js_urls = [];\n\n    root._bokeh_onload_callbacks.push(callback);\n    if (root._bokeh_is_loading > 0) {\n      console.debug(\"Bokeh: BokehJS is being loaded, scheduling callback at\", now());\n      return null;\n    }\n    if (js_urls == null || js_urls.length === 0) {\n      run_callbacks();\n      return null;\n    }\n    console.debug(\"Bokeh: BokehJS not loaded, scheduling load and callback at\", now());\n    root._bokeh_is_loading = css_urls.length + js_urls.length;\n\n    function on_load() {\n      root._bokeh_is_loading--;\n      if (root._bokeh_is_loading === 0) {\n        console.debug(\"Bokeh: all BokehJS libraries/stylesheets loaded\");\n        run_callbacks()\n      }\n    }\n\n    function on_error() {\n      console.error(\"failed to load \" + url);\n    }\n\n    for (var i = 0; i < css_urls.length; i++) {\n      var url = css_urls[i];\n      const element = document.createElement(\"link\");\n      element.onload = on_load;\n      element.onerror = on_error;\n      element.rel = \"stylesheet\";\n      element.type = \"text/css\";\n      element.href = url;\n      console.debug(\"Bokeh: injecting link tag for BokehJS stylesheet: \", url);\n      document.body.appendChild(element);\n    }\n\n    for (var i = 0; i < js_urls.length; i++) {\n      var url = js_urls[i];\n      var element = document.createElement('script');\n      element.onload = on_load;\n      element.onerror = on_error;\n      element.async = false;\n      element.src = url;\n      console.debug(\"Bokeh: injecting script tag for BokehJS library: \", url);\n      document.head.appendChild(element);\n    }\n  };var element = document.getElementById(\"1009\");\n  if (element == null) {\n    console.error(\"Bokeh: ERROR: autoload.js configured with elementid '1009' but no matching script tag was found. \")\n    return false;\n  }\n\n  function inject_raw_css(css) {\n    const element = document.createElement(\"style\");\n    element.appendChild(document.createTextNode(css));\n    document.body.appendChild(element);\n  }\n\n  var js_urls = [\"https://cdn.pydata.org/bokeh/release/bokeh-1.2.0.min.js\", \"https://cdn.pydata.org/bokeh/release/bokeh-widgets-1.2.0.min.js\", \"https://cdn.pydata.org/bokeh/release/bokeh-tables-1.2.0.min.js\", \"https://cdn.pydata.org/bokeh/release/bokeh-gl-1.2.0.min.js\"];\n  var css_urls = [\"https://cdn.pydata.org/bokeh/release/bokeh-1.2.0.min.css\", \"https://cdn.pydata.org/bokeh/release/bokeh-widgets-1.2.0.min.css\", \"https://cdn.pydata.org/bokeh/release/bokeh-tables-1.2.0.min.css\"];\n\n  var inline_js = [\n    function(Bokeh) {\n      Bokeh.set_log_level(\"info\");\n    },\n    \n    function(Bokeh) {\n      \n    },\n    function(Bokeh) {} // ensure no trailing comma for IE\n  ];\n\n  function run_inline_js() {\n    \n    if ((root.Bokeh !== undefined) || (force === true)) {\n      for (var i = 0; i < inline_js.length; i++) {\n        inline_js[i].call(root, root.Bokeh);\n      }if (force === true) {\n        display_loaded();\n      }} else if (Date.now() < root._bokeh_timeout) {\n      setTimeout(run_inline_js, 100);\n    } else if (!root._bokeh_failed_load) {\n      console.log(\"Bokeh: BokehJS failed to load within specified timeout.\");\n      root._bokeh_failed_load = true;\n    } else if (force !== true) {\n      var cell = $(document.getElementById(\"1009\")).parents('.cell').data().cell;\n      cell.output_area.append_execute_result(NB_LOAD_WARNING)\n    }\n\n  }\n\n  if (root._bokeh_is_loading === 0) {\n    console.debug(\"Bokeh: BokehJS loaded, going straight to plotting\");\n    run_inline_js();\n  } else {\n    load_libs(css_urls, js_urls, function() {\n      console.debug(\"Bokeh: BokehJS plotting callback run at\", now());\n      run_inline_js();\n    });\n  }\n}(window));"
     },
     "metadata": {},
     "output_type": "display_data"
    }
   ],
   "source": [
    "import routing_algo as route\n",
    "import  pyspark.sql.functions as F\n",
    "import pandas as pd\n",
    "from operator import itemgetter\n",
    "import numpy as np\n",
    "from datetime import *\n",
    "import ast\n",
    "from pyspark.sql.types import *\n",
    "import itertools\n",
    "import os\n",
    "import getpass\n",
    "import pyspark\n",
    "from pyspark.sql import SparkSession\n",
    "import math\n",
    "from geopy import distance\n",
    "from  dateutil import parser\n",
    "import re\n",
    "from pyspark.sql.types import Row\n",
    "import copy\n",
    "from pyspark.sql import Window\n",
    "import networkx as nx\n",
    "from bokeh.io import push_notebook, show, output_notebook\n",
    "from bokeh.plotting import figure\n",
    "from bokeh.models import ColumnDataSource,Range1d,Circle,HoverTool, LabelSet,Select, TextInput, ColumnDataSource, CustomJS\n",
    "from bokeh.models.widgets import Button,Select,TextInput,AutocompleteInput,Div\n",
    "from bokeh.layouts import row as row_l,column as column_l\n",
    "from IPython.display import display, HTML\n",
    "from geopy.geocoders import Nominatim\n",
    "from functools import reduce\n",
    "from pyproj import Proj, transform\n",
    "from bokeh.embed import components\n",
    "from bokeh.io import curdoc\n",
    "import random\n",
    "import string\n",
    "from bokeh.io import show\n",
    "from bokeh.layouts import widgetbox\n",
    "import pyspark.sql.types as t\n",
    "import math\n",
    "import pickle\n",
    "import branca.colormap as cm\n",
    "import folium\n",
    "from constants import *\n",
    "from bokeh.tile_providers import get_provider, Vendors\n",
    "from helpers import *\n",
    "output_notebook()"
   ]
  },
  {
   "cell_type": "markdown",
   "metadata": {},
   "source": [
    "## Helper functions "
   ]
  },
  {
   "cell_type": "code",
   "execution_count": 49,
   "metadata": {},
   "outputs": [],
   "source": [
    "def find_path(dummy):\n",
    "    \"\"\" Function called when parameters are changed, handles plotting \"\"\"\n",
    "\n",
    "    global lines\n",
    "    groups, groups_display, durations, global_confidence, total_time = find_path_sub(G,selected_src, selected_dst,\n",
    "                                                                                     selected_time, float(\n",
    "                                                                                         proba) / 100,\n",
    "                                                                                     n_iter=4, cutoff=selected_cutoff)\n",
    "    if groups is not None:\n",
    "\n",
    "        for line in lines:\n",
    "            p.renderers.remove(line)\n",
    "\n",
    "        lines = []\n",
    "\n",
    "        for idx, group in enumerate(groups):\n",
    "            lon = interleave(group.lon_x, group.lon_y)\n",
    "            lat = interleave(group.lat_x, group.lat_y)\n",
    "            lines.append(p.line(lon, lat, line_alpha=0.6,\n",
    "                                line_color=colors[idx % len(colors)], line_width=6))\n",
    "\n",
    "        div_path.text = default_text_div + \\\n",
    "            show_plan(groups_display, durations, global_confidence, total_time)\n",
    "\n",
    "    else:\n",
    "        html_returned = '<div id=path>'\n",
    "        html_returned += '<div class=path_header><center> No valid path for the current selection !<center></div><br></div>'\n",
    "        div_path.text = default_text_div + html_returned\n",
    "\n",
    "    push_notebook(handle=bokeh_handle)\n",
    "\n",
    "\n",
    "def reset(dummy):\n",
    "    \"\"\" Reset map \"\"\"\n",
    "\n",
    "    global lines\n",
    "    for line in lines:\n",
    "        p.renderers.remove(line)\n",
    "\n",
    "    lines = []\n",
    "    div_path.text = default_text_div\n",
    "    push_notebook(handle=bokeh_handle)\n"
   ]
  },
  {
   "cell_type": "code",
   "execution_count": 145,
   "metadata": {},
   "outputs": [],
   "source": [
    "##################################################  Data Preprocessing ##############################################################################\n",
    "\n",
    "\n",
    "def parse(str_):\n",
    "    \"\"\" Metadata parsing \"\"\"\n",
    "    columns = ['id', 'lon', 'lat', '_', 'name']\n",
    "    regex_pattern = r'(\\d+)\\s+([-+]*\\d+|[-+]*\\d+\\.\\d+)\\s+([-+]*\\d+|[-+]*\\d+\\.\\d+)\\s+([-+]*\\d+)\\s+\\%\\s+(.*)'\n",
    "\n",
    "    try:\n",
    "        ret = Row(**dict(zip(columns, re.search(regex_pattern, str_).groups())))\n",
    "\n",
    "    except:\n",
    "        raise RuntimeError('String \"{}\" generated error'.format(str_))\n",
    "\n",
    "    return ret\n",
    "\n",
    "\n",
    "def rename_cols(orig_cols, new_names):\n",
    "\n",
    "    list_ret = [F.col(orig_col).alias(new_col)\n",
    "                for orig_col, new_col in zip(orig_cols, new_names)]\n",
    "\n",
    "    return list_ret\n",
    "\n",
    "\n",
    "def replace_null_dates(df, cols):\n",
    "    \"\"\" Replace null dates with a specific token \"\"\"\n",
    "\n",
    "    for col_ in cols:\n",
    "        df = df.withColumn(col_, F.when(\n",
    "            df[col_].isNull(), null_date).otherwise(df[col_]))\n",
    "        df = df.withColumn(col_, to_timestamp(col_))\n",
    "\n",
    "    return df\n",
    "\n",
    "\n",
    "def remove_unvalid(remove_top=False):\n",
    "    \"\"\" Sanitize data so that inner arrays are now corresponding to nodes \"\"\"\n",
    "\n",
    "    def inner(struct):\n",
    "        nb_stops = struct[0]\n",
    "        array = struct[1]\n",
    "\n",
    "        if remove_top:\n",
    "            top = 1\n",
    "            bottom = 0\n",
    "\n",
    "        else:\n",
    "            top = 0\n",
    "            bottom = 1\n",
    "\n",
    "        return [y for x in range(0, len(array), nb_stops) for y in array[x + top:x + nb_stops - bottom]]\n",
    "\n",
    "    return inner\n",
    "\n",
    "\n",
    "def make_udf(type_, func):\n",
    "    \"create a UDF\"\n",
    "\n",
    "    return F.udf(func, type_)\n",
    "\n",
    "\n",
    "def chunk_by_edge(struct_):\n",
    "    \"\"\" Group data of same node in one array \"\"\"\n",
    "\n",
    "    ret_array = []\n",
    "    array = struct_[0]\n",
    "    chunk_size = struct_[1] - 1\n",
    "\n",
    "    for i in range(chunk_size):\n",
    "        ret_array.append([array[n] for n in range(i, len(array), chunk_size)])\n",
    "\n",
    "    return ret_array\n",
    "\n",
    "\n",
    "def combine_columns(*cols):\n",
    "\n",
    "    return list(zip(*cols))\n",
    "\n",
    "\n",
    "def combine_and_explode(cols, schema_combine, df):\n",
    "    \"\"\" Group data for a specific edge \"\"\"\n",
    "\n",
    "    combine_columns_udf = F.udf(combine_columns, schema_combine)\n",
    "\n",
    "    return df.withColumn('new', combine_columns_udf(*cols)).withColumn(\"new\", F.explode(\"new\"))\n",
    "\n",
    "\n",
    "def get_sec(time_str):\n",
    "\n",
    "    try:\n",
    "        h, m, s = time_str.split(':')\n",
    "\n",
    "    except:\n",
    "\n",
    "        return 0\n",
    "\n",
    "    return float(h) * 3600 + float(m) * 60 + float(s)\n",
    "\n",
    "\n",
    "##################################################  Compute probas ##############################################################################\n",
    "\n",
    "def pxy(_lambda, duration):\n",
    "    \"\"\" Compute P(x<y) \"\"\"\n",
    "\n",
    "    if duration < 0:\n",
    "\n",
    "        return 0.\n",
    "\n",
    "    if _lambda == math.inf:\n",
    "\n",
    "        return 1.\n",
    "\n",
    "    return 1 - math.exp(-_lambda * duration)\n",
    "\n",
    "\n",
    "def time_diff(departure_time, arrival_time):\n",
    "    \"\"\" Time difference between two timestamps \"\"\"\n",
    "\n",
    "    h, m, s = [int(x) for x in departure_time.split(':')]\n",
    "    t1 = time(h, m, s)\n",
    "\n",
    "    try:\n",
    "        h, m, s = [int(x) for x in arrival_time.split(':')]\n",
    "        t2 = time(h, m, s)\n",
    "\n",
    "    except:\n",
    "        t2 = t1\n",
    "\n",
    "    dateTimeA = datetime.combine(date.today(), t1)\n",
    "    dateTimeB = datetime.combine(date.today(), t2)\n",
    "\n",
    "    dateTimeDifference = dateTimeA - dateTimeB\n",
    "\n",
    "    return dateTimeDifference.total_seconds()\n",
    "\n",
    "\n",
    "def add_time(given_time, num_sec):\n",
    "    \"\"\" Add timedelta to a given timestamp \"\"\"\n",
    "\n",
    "    h, m, s = [int(x) for x in given_time.split(':')]\n",
    "    t = time(h, m, s)\n",
    "\n",
    "    dateTimeOld = datetime.combine(date.today(), t)\n",
    "    dateTimeNew = dateTimeOld + timedelta(seconds=num_sec)\n",
    "\n",
    "    h, m, s = dateTimeNew.hour, dateTimeNew.minute, dateTimeNew.second\n",
    "\n",
    "    return \"%02d:%02d:%02d\" % (h, m, s)\n",
    "\n",
    "\n",
    "\n",
    "##################################################  Building nx graph ##############################################################################\n",
    "\n",
    "\n",
    "def add_to_graph_edge(edge_data):\n",
    "    \"\"\" For building multigraph edges \"\"\"\n",
    "\n",
    "    cols = edge_data.index\n",
    "    edge_attribs = {x: edge_data[x]\n",
    "                    for x in cols if type(edge_data[x]) != list}\n",
    "    edge_attribs['weight'] = 0\n",
    "    G.add_edge(edge_data.departure_station,\n",
    "               edge_data.arrival_station, **edge_attribs)\n",
    "\n",
    "\n",
    "def add_to_graph_node(node_data):\n",
    "    \"\"\" For building multigraph nodes \"\"\"\n",
    "    cols = node_data.index\n",
    "    node_attribs = {x: node_data[x] for x in cols}\n",
    "    G.add_node(node_attribs['name'], **node_attribs)\n"
   ]
  },
  {
   "cell_type": "markdown",
   "metadata": {},
   "source": [
    "## Udfs"
   ]
  },
  {
   "cell_type": "code",
   "execution_count": 98,
   "metadata": {},
   "outputs": [],
   "source": [
    "@F.udf\n",
    "def filter_coords(row):\n",
    "    \"\"\"filter out all station > 10 km to ZH HB\"\"\"\n",
    "    lon = float(row[0])\n",
    "    lat = float(row[1])\n",
    "    distance_to_hb = distance.distance(\n",
    "        (hb_coords.lon, hb_coords.lat), (lon, lat)).km <= 10\n",
    "\n",
    "    return distance_to_hb\n",
    "\n",
    "\n",
    "@F.udf\n",
    "def filter_walking(row):\n",
    "    \"\"\"Find distance between two stations\"\"\"\n",
    "\n",
    "    coords_1 = (row.lon, row.lat)\n",
    "    coords_2 = (row.lon_2, row.lat_2)\n",
    "    distance_walk = distance.distance(coords_1, coords_2).km\n",
    "\n",
    "    return distance_walk\n",
    "\n",
    "\n",
    "\n",
    "\n",
    "\n",
    "@F.udf(IntegerType())\n",
    "def number_of_stops(x):\n",
    "    \"\"\"Compute the number of stop for every trip\"\"\"\n",
    "\n",
    "    nb_stops = len(x)\n",
    "\n",
    "    try:\n",
    "        nb_stops = x[1:].index(x[0]) + 1\n",
    "\n",
    "    except:\n",
    "        pass\n",
    "\n",
    "    return nb_stops\n",
    "\n",
    "\n",
    "udf_shorten = F.udf(lambda x: x[0][:x.nb_stops], ArrayType(StringType()))\n",
    "\n",
    "\n",
    "@F.udf(ArrayType(ArrayType(StringType())))\n",
    "def edge_split(stops):\n",
    "    \"\"\"Create individual edges from stop names\"\"\"\n",
    "\n",
    "    return [(stops[i], stops[i + 1]) for i in range(len(stops) - 1)]\n",
    "\n",
    "\n",
    "compute_trip_time = F.udf(lambda struct: [\n",
    "                          x - y for x, y in zip(struct[0], struct[1])], ArrayType(DoubleType()))\n",
    "\n",
    "\n",
    "@F.udf(ArrayType(StringType()))\n",
    "def extract_time(array):\n",
    "    \"\"\"Extract the time from a date\"\"\"\n",
    "\n",
    "    ret = []\n",
    "\n",
    "    for elem in array:\n",
    "        date_obj = datetime.fromtimestamp(elem)\n",
    "        ret.append('{:02d}:{:02d}:{:02d}'.format(\n",
    "            date_obj.hour, date_obj.minute, date_obj.second))\n",
    "\n",
    "    return ret\n",
    "\n",
    "\n",
    "types = StructType([StructField('S_departure_time', ArrayType(StringType())),\n",
    "                    StructField('S_arrival_time', ArrayType(StringType()))])\n",
    "\n",
    "\n",
    "@F.udf(types)\n",
    "def get_unique_time(struct_):\n",
    "    \"\"\"Build multiedges (one edge per departure time)\"\"\"\n",
    "\n",
    "    # Sort unique departure times\n",
    "    departure_times = sorted(list(set(struct_.S_departure_time)))\n",
    "\n",
    "    # Sort unique arrival times\n",
    "    arrival_times = sorted(list(set(struct_.S_arrival_time)))\n",
    "    arrival_times_ordered = []\n",
    "\n",
    "    # Match pairs of Departure/arrival time\n",
    "    for idx, departure_time in enumerate(departure_times):\n",
    "        stop = False\n",
    "        idx_arrival = idx\n",
    "\n",
    "        while(not stop and idx_arrival < len(arrival_times)):\n",
    "            arrival_time = arrival_times[idx_arrival]\n",
    "\n",
    "            if departure_time < arrival_time:\n",
    "                arrival_times_ordered.append(arrival_time)\n",
    "                stop = True\n",
    "\n",
    "            idx_arrival += 1\n",
    "\n",
    "    return departure_times, arrival_times_ordered\n",
    "\n",
    "\n",
    "udf_sec = F.udf(get_sec, DoubleType())\n",
    "\n",
    "\n",
    "@F.udf(DoubleType())\n",
    "def get_lambda_mle(values_list):\n",
    "    \"\"\"compute statistics for exponential distribution\"\"\"\n",
    "\n",
    "    list_true_samples = [x for x in values_list if x != -1]\n",
    "\n",
    "    if len(list_true_samples) > 0:\n",
    "        mean = sum(list_true_samples) / len(list_true_samples)\n",
    "\n",
    "    else:\n",
    "\n",
    "        return math.inf\n",
    "\n",
    "    if mean == 0:\n",
    "\n",
    "        return math.inf\n",
    "\n",
    "    return 1. / mean\n",
    "\n",
    "\n",
    "pxy_udf = F.udf(lambda x: pxy_2(x[0], x[1], x[2]), DoubleType())\n"
   ]
  },
  {
   "cell_type": "markdown",
   "metadata": {},
   "source": [
    "## Setting up a spark session"
   ]
  },
  {
   "cell_type": "code",
   "execution_count": 85,
   "metadata": {},
   "outputs": [
    {
     "data": {
      "text/html": [
       "\n",
       "        <div>\n",
       "            <p><b>SparkContext</b></p>\n",
       "\n",
       "            <p><a href=\"http://iccluster042.iccluster.epfl.ch:4053\">Spark UI</a></p>\n",
       "\n",
       "            <dl>\n",
       "              <dt>Version</dt>\n",
       "                <dd><code>v2.3.2.3.1.0.0-78</code></dd>\n",
       "              <dt>Master</dt>\n",
       "                <dd><code>yarn</code></dd>\n",
       "              <dt>AppName</dt>\n",
       "                <dd><code>scheduler-alami</code></dd>\n",
       "            </dl>\n",
       "        </div>\n",
       "        "
      ],
      "text/plain": [
       "<SparkContext master=yarn appName=scheduler-alami>"
      ]
     },
     "execution_count": 85,
     "metadata": {},
     "output_type": "execute_result"
    }
   ],
   "source": [
    "conf = pyspark.conf.SparkConf()\n",
    "conf.setMaster('yarn')\n",
    "conf.setAppName('scheduler-{0}'.format(getpass.getuser()))\n",
    "conf.set('spark.executor.memory', '4g')\n",
    "conf.set('spark.executor.instances', '3')\n",
    "conf.set('spark.port.maxRetries', '100')\n",
    "conf.set('spark.jars.packages', 'graphframes:graphframes:0.6.0-spark2.3-s_2.11')\n",
    "sc = pyspark.SparkContext.getOrCreate(conf)\n",
    "conf = sc.getConf()\n",
    "sc"
   ]
  },
  {
   "cell_type": "code",
   "execution_count": 86,
   "metadata": {},
   "outputs": [],
   "source": [
    "sc.addPyFile('geopy.zip')\n",
    "sc.addPyFile('geographiclib.zip')\n",
    "sc.addPyFile('helpers.py')\n",
    "sc.addPyFile('routing_algo.py')\n",
    "sc.addPyFile('constants.py')\n",
    "spark = SparkSession(sc)"
   ]
  },
  {
   "cell_type": "code",
   "execution_count": 87,
   "metadata": {},
   "outputs": [
    {
     "data": {
      "text/html": [
       "\n",
       "            <div>\n",
       "                <p><b>SparkSession - in-memory</b></p>\n",
       "                \n",
       "        <div>\n",
       "            <p><b>SparkContext</b></p>\n",
       "\n",
       "            <p><a href=\"http://iccluster042.iccluster.epfl.ch:4053\">Spark UI</a></p>\n",
       "\n",
       "            <dl>\n",
       "              <dt>Version</dt>\n",
       "                <dd><code>v2.3.2.3.1.0.0-78</code></dd>\n",
       "              <dt>Master</dt>\n",
       "                <dd><code>yarn</code></dd>\n",
       "              <dt>AppName</dt>\n",
       "                <dd><code>scheduler-alami</code></dd>\n",
       "            </dl>\n",
       "        </div>\n",
       "        \n",
       "            </div>\n",
       "        "
      ],
      "text/plain": [
       "<pyspark.sql.session.SparkSession at 0x7ff6e6f22860>"
      ]
     },
     "execution_count": 87,
     "metadata": {},
     "output_type": "execute_result"
    }
   ],
   "source": [
    "spark"
   ]
  },
  {
   "cell_type": "markdown",
   "metadata": {},
   "source": [
    "<a id='Data Processing'></a>\n",
    "## I. Data Processing\n",
    "<a id='Fetching Data'></a>\n",
    "### I. a. Fetching Data\n",
    "\n",
    "We begin by simply fetching the schedule dataset and the associated metadata. We only use 2018 weekdays data for computational constraints purposes. However the same pipeline can be used for the whole dataset"
   ]
  },
  {
   "cell_type": "code",
   "execution_count": 153,
   "metadata": {},
   "outputs": [],
   "source": [
    "df= spark.read.option(\"header\", \"true\").csv(\"/datasets/sbb/2018/*/*\", sep= ';')\n",
    "\n"
   ]
  },
  {
   "cell_type": "code",
   "execution_count": 101,
   "metadata": {},
   "outputs": [],
   "source": [
    "## Read metadata\n",
    "metadata = sc.textFile(\"/homes/alami/metadata.txt\")\n",
    "metadata = metadata.map(parse).toDF()"
   ]
  },
  {
   "cell_type": "markdown",
   "metadata": {},
   "source": [
    "<a id='Renaming columns'></a>\n",
    "### I. b. Renaming columns\n",
    "\n",
    "Columns are given appropriate English names for ease of use later."
   ]
  },
  {
   "cell_type": "code",
   "execution_count": 102,
   "metadata": {},
   "outputs": [],
   "source": [
    "original_df_names = ['BETRIEBSTAG',\n",
    " 'FAHRT_BEZEICHNER',\n",
    " 'PRODUKT_ID',\n",
    " 'FAELLT_AUS_TF',\n",
    " 'HALTESTELLEN_NAME',\n",
    " 'ANKUNFTSZEIT',\n",
    " 'AN_PROGNOSE',\n",
    " 'AN_PROGNOSE_STATUS',\n",
    " 'ABFAHRTSZEIT',\n",
    " 'AB_PROGNOSE',\n",
    " 'AB_PROGNOSE_STATUS']\n",
    "\n",
    "new_df_names = ['date','trip_id','type','irregular_trip','stop_name','S_arrival_time',\n",
    "                'A_arrival_time','delay_arrival','S_departure_time','A_departure_time','delay_departure']\n",
    "\n",
    "df = df.select(*rename_cols(original_df_names,new_df_names))"
   ]
  },
  {
   "cell_type": "code",
   "execution_count": 103,
   "metadata": {},
   "outputs": [],
   "source": [
    "# Keep only weekdays data \n",
    "funcWeekDay =  F.udf(lambda x: int(datetime.strptime(x, '%d.%m.%Y').strftime('%w')),IntegerType())\n",
    "df = df.withColumn('day',funcWeekDay('date'))\n",
    "df = df.where(F.col('day') <= 5)\n",
    "df = df.drop('day')"
   ]
  },
  {
   "cell_type": "markdown",
   "metadata": {},
   "source": [
    "<a id='Keeping only Zurich stations'></a>\n",
    "### I. c.  Keeping only Zurich stations\n",
    "\n",
    "The algorithm we present for uncertainty awareness works as a proof-of-concept for the Zurich Area. There is definitely a lot of scope for optimization in a big-data setting which will be discussed in the end."
   ]
  },
  {
   "cell_type": "code",
   "execution_count": 104,
   "metadata": {},
   "outputs": [],
   "source": [
    "hb_coords = metadata.where(F.col('name') == 'Zürich HB').collect()[0]\n",
    "metadata = metadata.withColumn('keep',filter_coords(F.struct([metadata[x] for x in ['lon','lat']])).cast('boolean'))\n",
    "metadata = metadata[metadata.keep]"
   ]
  },
  {
   "cell_type": "code",
   "execution_count": 105,
   "metadata": {},
   "outputs": [],
   "source": [
    "## Filter Far stops in df\n",
    "\n",
    "df = df.join(metadata,df.stop_name == metadata.name).select(df.columns)\n",
    "metadata = metadata.drop('keep').cache()"
   ]
  },
  {
   "cell_type": "markdown",
   "metadata": {},
   "source": [
    "<a id='Computing walking distances'></a>\n",
    "### I. d. Computing walking distances\n",
    "\n",
    "In order to incorporate short walks in the suggested route planner, we need to explicitly create a dataframe of pairwise distances between all possible stops which will be later used to create \"WALK\" edges in the final graph that we build. Of course, we will filter these pairwise distances under an appropriate threshold in order to keep reasonable walking distances."
   ]
  },
  {
   "cell_type": "code",
   "execution_count": 106,
   "metadata": {},
   "outputs": [],
   "source": [
    "## Generate all pairs of stations\n",
    "\n",
    "metadata_renamed = metadata.select(rename_cols(metadata.columns,[x+'_2'for x in metadata.columns]))\n",
    "pairwise_distances = metadata.crossJoin(metadata_renamed)\n",
    "\n",
    "## Filter out self-loops\n",
    "\n",
    "pairwise_distances = pairwise_distances.where(pairwise_distances.id != pairwise_distances.id_2)\n",
    "\n",
    "## Compute distances\n",
    "\n",
    "struct_instance = F.struct([pairwise_distances[x] for x in pairwise_distances.columns])\n",
    "pairwise_distances = pairwise_distances.withColumn('distance',filter_walking(struct_instance))\n",
    "\n",
    "## Keep only reasonable walkable paths\n",
    "\n",
    "pairwise_distances = pairwise_distances.where(pairwise_distances.distance <= distance_walk_thresh).cache()"
   ]
  },
  {
   "cell_type": "markdown",
   "metadata": {},
   "source": [
    "<a id='Sanitizing input dataframe'></a>\n",
    "### I. e. Sanitizing input dataframe\n",
    "\n",
    "Now that we have all the relavant information with us, let's begin data-cleaning. Specifically, we need to take care of null dates and cases when actual arrival times haven't been noted."
   ]
  },
  {
   "cell_type": "markdown",
   "metadata": {},
   "source": [
    "In order to obtain correct delay we need to take care of missing delay values by marking every field with a delay value different than \"GESCHAETZT\" as a  field without evaluated delay."
   ]
  },
  {
   "cell_type": "code",
   "execution_count": 107,
   "metadata": {},
   "outputs": [],
   "source": [
    "## Removing non_regular trips \n",
    "\n",
    "df = df[df.irregular_trip == 'false']\n",
    "\n",
    "## Sanitizing boolean fields\n",
    "\n",
    "columns_to_keep = []\n",
    "\n",
    "for col_ in new_df_names:\n",
    "    \n",
    "    if col_ !=  'irregular_trip':\n",
    "        col_obj = F.col(col_)\n",
    "\n",
    "        if 'delay' in col_:\n",
    "            col_obj = (col_obj == 'GESCHAETZT').cast('boolean').alias(col_)\n",
    "        \n",
    "        columns_to_keep.append(col_obj)\n",
    "\n",
    "df = df.select(columns_to_keep)"
   ]
  },
  {
   "cell_type": "code",
   "execution_count": 108,
   "metadata": {},
   "outputs": [],
   "source": [
    "## Sanitizing dates\n",
    "\n",
    "df = replace_null_dates(df,['S_arrival_time','A_arrival_time','S_departure_time','A_departure_time'])"
   ]
  },
  {
   "cell_type": "markdown",
   "metadata": {},
   "source": [
    "<a id='Computing delays'></a>\n",
    "### I. f. Computing delays\n",
    "\n",
    "We make the following assumptions :\n",
    "- Negative departure delays are a mistake on the end of the public transportation service and hence will not be considered.\n",
    "- Positive departure delays and negative arrival delays will always result in 100% probability of transition.\n",
    "- Hence only positive arrival delays need to be computed."
   ]
  },
  {
   "cell_type": "code",
   "execution_count": 109,
   "metadata": {},
   "outputs": [],
   "source": [
    "list_selection = [('A_arrival_time','delay_arrival','S_arrival_time'),('A_departure_time','delay_departure','S_departure_time')]"
   ]
  },
  {
   "cell_type": "code",
   "execution_count": 110,
   "metadata": {},
   "outputs": [],
   "source": [
    "for col_ in list_selection:\n",
    "    df = df.withColumn('delay_in_secs',(F.col(col_[0])-F.col(col_[2])))\n",
    "    \n",
    "    #keep only those delays which are strictly positive, this also filters all rows where PROGNOSE_STATUS was False\n",
    "    \n",
    "    df = df.withColumn('delay_in_secs',(F.when(F.col('delay_in_secs') > 0,F.col('delay_in_secs')).otherwise(0)))\n",
    "    df = df.withColumn('delay_in_secs',F.when(~df[col_[1]], F.lit(-1)).otherwise(F.col('delay_in_secs')))\n",
    "    df = df.withColumn(col_[1], F.col('delay_in_secs'))\n",
    "    df = df.drop('delay_in_secs')"
   ]
  },
  {
   "cell_type": "markdown",
   "metadata": {},
   "source": [
    "<a id='Grouping the dataframe'></a>\n",
    "### I. g. Grouping the dataframe\n",
    "\n",
    "We will group all records of the dataframe by trip-id so that we can form relevant edges for our graph later."
   ]
  },
  {
   "cell_type": "code",
   "execution_count": 111,
   "metadata": {},
   "outputs": [],
   "source": [
    "## Kept columns\n",
    "\n",
    "columns_df = [ col_ for col_ in df.columns if col_ != 'trip_id' ]"
   ]
  },
  {
   "cell_type": "code",
   "execution_count": 112,
   "metadata": {},
   "outputs": [],
   "source": [
    "## Swap columns order\n",
    "\n",
    "cp = columns_df[0]\n",
    "idx = columns_df.index('S_departure_time')\n",
    "columns_df[0] = columns_df[idx]\n",
    "columns_df[idx] = cp"
   ]
  },
  {
   "cell_type": "code",
   "execution_count": 113,
   "metadata": {},
   "outputs": [],
   "source": [
    "## Create a window to keep trips ordered by time inside every group\n",
    "\n",
    "w = Window.partitionBy('trip_id').orderBy('S_departure_time')\n",
    "\n",
    "## Sort by departure time inside every group\n",
    "\n",
    "df_groupped = df.withColumn(\n",
    "            'sorted_col',F.collect_list(F.struct(*columns_df)).over(w))\n",
    "\n",
    "## Groupby trip_id and explode columns after sort\n",
    "\n",
    "df_groupped = df_groupped.groupBy('trip_id').agg(F.max('sorted_col').alias('sorted_col'))\n",
    "df_groupped = df_groupped.select('trip_id',*[F.col('sorted_col')[col_].alias(col_) for col_ in columns_df]).cache()"
   ]
  },
  {
   "cell_type": "code",
   "execution_count": 114,
   "metadata": {},
   "outputs": [],
   "source": [
    "## Compute the number of stops in every trip\n",
    "\n",
    "df_groupped_ = df_groupped.withColumn('nb_stops',number_of_stops('stop_name'))\n",
    "\n",
    "## Keep only unique stop names\n",
    "\n",
    "selection = ['stop_name']\n",
    "\n",
    "for col_ in selection:\n",
    "    df_groupped_ = df_groupped_.withColumn(col_,udf_shorten(F.struct(col_,'nb_stops')))"
   ]
  },
  {
   "cell_type": "code",
   "execution_count": 115,
   "metadata": {},
   "outputs": [],
   "source": [
    "## Keep only one type for all groups (since its similar)\n",
    "\n",
    "df_groupped_ = df_groupped_.withColumn('type',F.udf(lambda x: x[0])('type'))"
   ]
  },
  {
   "cell_type": "markdown",
   "metadata": {},
   "source": [
    "<a id='Creating nodes and edges'></a>\n",
    "## II. Creating nodes and edges"
   ]
  },
  {
   "cell_type": "markdown",
   "metadata": {},
   "source": [
    "<a id='Making edges'></a>\n",
    "### II. a. Making edges\n",
    "\n",
    "Making use of the dataframe that had been grouped by trip-id, we further pair and group relevant columns to make an edge dataframe which basically consists of arrival/departure times/delays and stops for every trip-id as a list."
   ]
  },
  {
   "cell_type": "code",
   "execution_count": 116,
   "metadata": {},
   "outputs": [],
   "source": [
    "## Create edges for every trip\n",
    "\n",
    "df_groupped_ = df_groupped_.withColumn('edges',edge_split('stop_name'))"
   ]
  },
  {
   "cell_type": "code",
   "execution_count": 117,
   "metadata": {},
   "outputs": [],
   "source": [
    "## Move from node to edge representation\n",
    "\n",
    "## Create a schema that will be used later to regroup trips informations\n",
    "\n",
    "dep = ['S_departure_time','A_departure_time','delay_departure']\n",
    "arr = ['S_arrival_time','A_arrival_time','delay_arrival']\n",
    "\n",
    "dep_tupples= list(zip(dep,\n",
    "               [df_groupped_.schema.fields[i].dataType for i in [1,8,9]],\n",
    "               [False,False,False]))\n",
    "\n",
    "arr_tupples =  list(zip(arr,\n",
    "               [df_groupped_.schema.fields[i].dataType for i in [4,5,6]],\n",
    "               [True,True,True]))\n",
    "\n",
    "schemas = dep_tupples+arr_tupples\n",
    "\n",
    "for tupple in schemas:\n",
    "    df_groupped_=  df_groupped_.withColumn(tupple[0],\n",
    "                                           F.udf(remove_unvalid(tupple[2]),tupple[1])(F.struct('nb_stops',tupple[0])))"
   ]
  },
  {
   "cell_type": "code",
   "execution_count": 118,
   "metadata": {},
   "outputs": [],
   "source": [
    "## Pair actual and scheduled times\n",
    "\n",
    "time_pairing = list(zip(dep[:-1],arr[:-1],['sheduled_trip_time','actual_trip_time']))\n"
   ]
  },
  {
   "cell_type": "code",
   "execution_count": 119,
   "metadata": {},
   "outputs": [],
   "source": [
    "## Compute actual and scheduled trip times\n",
    "\n",
    "tupple = time_pairing[1]\n",
    "df_groupped_ = df_groupped_.withColumn(tupple[2],compute_trip_time(F.struct(F.col(tupple[1]),F.col(tupple[0]))))"
   ]
  },
  {
   "cell_type": "code",
   "execution_count": 120,
   "metadata": {},
   "outputs": [],
   "source": [
    "## Drop date field \n",
    "\n",
    "df_groupped_ = df_groupped_.drop('date','stop_name')"
   ]
  },
  {
   "cell_type": "code",
   "execution_count": 121,
   "metadata": {},
   "outputs": [],
   "source": [
    "## Keep only hours:minutes:seconds\n",
    "\n",
    "list_dates = ['S_departure_time','A_departure_time','S_arrival_time','A_arrival_time']\n",
    "\n",
    "for col_ in list_dates:\n",
    "    df_groupped_ = df_groupped_.withColumn(col_,extract_time(col_))    "
   ]
  },
  {
   "cell_type": "code",
   "execution_count": 122,
   "metadata": {},
   "outputs": [],
   "source": [
    "## Handles different types\n",
    "\n",
    "apply_to = [(['S_arrival_time','S_departure_time','A_departure_time','A_arrival_time'],StringType()),\n",
    "(['delay_arrival','delay_departure','actual_trip_time'],DoubleType())]\n",
    "\n",
    "## Create an array of arrays at every entry where subarrays are nodes data\n",
    "\n",
    "for (cols,type_) in apply_to:\n",
    "    udf_func = make_udf(ArrayType(ArrayType(type_)),chunk_by_edge)\n",
    "    \n",
    "    for col_ in cols:\n",
    "        df_groupped_ = df_groupped_.withColumn(col_,udf_func(F.struct(col_,'nb_stops')))"
   ]
  },
  {
   "cell_type": "markdown",
   "metadata": {},
   "source": [
    "<a id='Exploding the dataframe'></a>\n",
    "### II. b. Exploding the dataframe\n",
    "\n",
    "Now we will explode our dataframe so that every row contains only information about a unique edge which defined by a trip_id, a departure station and an arrival station."
   ]
  },
  {
   "cell_type": "code",
   "execution_count": 123,
   "metadata": {},
   "outputs": [],
   "source": [
    "s = copy.deepcopy(df_groupped_.schema.fields)"
   ]
  },
  {
   "cell_type": "code",
   "execution_count": 124,
   "metadata": {},
   "outputs": [],
   "source": [
    "## Trip_id, nb_stops and type\n",
    "\n",
    "remaining_names = [s[i].name for i in [0,2,8]]\n",
    "\n",
    "## Columns exploded schema\n",
    "\n",
    "s_reduced = [s[i] for i in [1,3,4,5,6,7,9,10]]\n",
    "col_names = [elem.name for i,elem in enumerate(s_reduced)]\n",
    "\n",
    "for i,elem in enumerate(s_reduced):\n",
    "    s_reduced[i].dataType = elem.dataType.elementType\n",
    "\n",
    "s_reduced =  ArrayType(StructType(s_reduced))"
   ]
  },
  {
   "cell_type": "code",
   "execution_count": 125,
   "metadata": {},
   "outputs": [],
   "source": [
    "## Group edge data for every row\n",
    "\n",
    "df_groupped_ = combine_and_explode(col_names,s_reduced,df_groupped_)"
   ]
  },
  {
   "cell_type": "code",
   "execution_count": 126,
   "metadata": {},
   "outputs": [],
   "source": [
    "## Drop the grouping column\n",
    "\n",
    "col_names = ['new.'+x for x in col_names]\n",
    "selection = [F.col(x).alias(x.split('.')[1]) for x in col_names] +[F.col(x) for x in remaining_names]\n",
    "df_groupped_ = df_groupped_.select(*selection)    "
   ]
  },
  {
   "cell_type": "code",
   "execution_count": 127,
   "metadata": {},
   "outputs": [],
   "source": [
    "tmp = df_groupped_.columns"
   ]
  },
  {
   "cell_type": "code",
   "execution_count": 128,
   "metadata": {},
   "outputs": [],
   "source": [
    "## Split the edge column into two separate columns (source,target)\n",
    "\n",
    "type_ = StructType([StructField(\"departure_station\", StringType(), True),\n",
    "                   StructField(\"arrival_station\", StringType(), True)])\n",
    "col_splitter = F.udf(lambda x: x,type_ )\n",
    "df_groupped_ = df_groupped_.withColumn('struct_edges',col_splitter('edges'))\n",
    "df_groupped_ = df_groupped_.select(*tmp,'struct_edges.*')"
   ]
  },
  {
   "cell_type": "code",
   "execution_count": 129,
   "metadata": {},
   "outputs": [],
   "source": [
    "tmp = [\n",
    " 'A_arrival_time',\n",
    " 'delay_arrival',\n",
    " 'A_departure_time',\n",
    " 'delay_departure',\n",
    " 'edges',\n",
    " 'actual_trip_time',\n",
    " 'trip_id',\n",
    " 'type',\n",
    " 'nb_stops',\n",
    " 'departure_station',\n",
    " 'arrival_station']"
   ]
  },
  {
   "cell_type": "code",
   "execution_count": 130,
   "metadata": {},
   "outputs": [],
   "source": [
    "## Explode trip_id to multiple trips (1 per departure time)\n",
    "\n",
    "df_groupped_ = df_groupped_.withColumn('new_col',get_unique_time(F.struct(*list_dates)))\n",
    "df_groupped_ = df_groupped_.select(*tmp,'new_col.*')"
   ]
  },
  {
   "cell_type": "code",
   "execution_count": 131,
   "metadata": {},
   "outputs": [],
   "source": [
    "## Explode \n",
    "\n",
    "list_dates = ['S_departure_time','S_arrival_time']\n",
    "types = StructType([StructField('S_departure_time',StringType()),\n",
    "                   StructField('S_arrival_time',StringType())])\n",
    "df_groupped_ = combine_and_explode(list_dates,ArrayType(types),df_groupped_)\n",
    "selection = ['new.*'] + tmp\n",
    "df_groupped_ = df_groupped_.select(*selection)"
   ]
  },
  {
   "cell_type": "code",
   "execution_count": 132,
   "metadata": {},
   "outputs": [],
   "source": [
    "df_groupped_ = df_groupped_.withColumn('scheduled_trip_time',udf_sec('S_arrival_time')-udf_sec('S_departure_time'))"
   ]
  },
  {
   "cell_type": "markdown",
   "metadata": {},
   "source": [
    "<a id='Merging walk data and public transport data'></a>\n",
    "### II. c. Merging walk data and public transport data\n",
    "\n",
    "We modify the dataframe containing information about walkable paths so that it fits the one we built for the remaining edges and merge them."
   ]
  },
  {
   "cell_type": "code",
   "execution_count": 133,
   "metadata": {},
   "outputs": [],
   "source": [
    "## Normalize walk data\n",
    "\n",
    "list_null_elem = ((['S_departure_time','S_arrival_time'],'-1'),\n",
    "                 (['A_arrival_time','A_departure_time'],['-1']),(['delay_arrival','delay_departure'],[float(0)]),\n",
    "                 (['type'],'walk'),(['nb_stops'],1))\n",
    "\n",
    "for list_cols in list_null_elem:\n",
    "    \n",
    "    for col_ in list_cols[0]:\n",
    "        \n",
    "        if type(list_cols[1]) == list:\n",
    "            cst = F.array(F.lit(list_cols[1][0]))\n",
    "        \n",
    "        else:\n",
    "            cst = F.lit(list_cols[1])\n",
    "        \n",
    "        pairwise_distances = pairwise_distances.withColumn(col_,cst)\n",
    "\n",
    "concat_columns = F.udf(lambda x: [x[i] for i in len(x)],ArrayType(StringType()))\n",
    "pairwise_distances = pairwise_distances.withColumn('edges',F.array('name','name_2')).\\\n",
    "                     withColumn('departure_station',F.col('name')).\\\n",
    "                     withColumn('arrival_station',F.col('name_2')).\\\n",
    "                     withColumn('scheduled_trip_time',F.col('distance')/speed_walk).\\\n",
    "                     withColumn('actual_trip_time',F.array(F.col('distance')/speed_walk)).\\\n",
    "                     withColumn('trip_id',F.monotonically_increasing_id().cast('string'))\n",
    "                    "
   ]
  },
  {
   "cell_type": "code",
   "execution_count": 134,
   "metadata": {},
   "outputs": [],
   "source": [
    "pairwise_distances =pairwise_distances.select(*df_groupped_.columns,F.col('id').alias('src'),F.col('id_2').alias('dst')) "
   ]
  },
  {
   "cell_type": "code",
   "execution_count": 135,
   "metadata": {},
   "outputs": [],
   "source": [
    "## Nodes df\n",
    "\n",
    "df_nodes = metadata.select('lon','lat','name','id')"
   ]
  },
  {
   "cell_type": "code",
   "execution_count": 136,
   "metadata": {},
   "outputs": [],
   "source": [
    "## Add ids to edges\n",
    "\n",
    "cols_tmp = df_groupped_.columns\n",
    "df_groupped_ = df_groupped_.join(df_nodes,on=df_nodes.name == df_groupped_.departure_station)\n",
    "df_groupped_ = df_groupped_.select(*cols_tmp,F.col('id').alias('src'))\n",
    "df_groupped_ = df_groupped_.join(df_nodes,on=df_nodes.name == df_groupped_.arrival_station)\n",
    "df_groupped_ = df_groupped_.select(*cols_tmp,'src',F.col('id').alias('dst')).cache()"
   ]
  },
  {
   "cell_type": "code",
   "execution_count": 137,
   "metadata": {},
   "outputs": [],
   "source": [
    "## Edges df\n",
    "df_edges = df_groupped_.union(pairwise_distances.select(*df_groupped_.columns)).cache()"
   ]
  },
  {
   "cell_type": "markdown",
   "metadata": {},
   "source": [
    "<a id='Computing statistics'></a>\n",
    "### II. d. Computing statistics\n",
    "\n",
    "\n",
    "Since we ignore negative delays in the preprocessing steps, we can now build our model for non-negative delays. \n",
    "\n",
    "We assume that the non-negative arrival delays are exponentially distributed. So we begin by estimating the lambda parameter associated with a typical exponential distribution : $$f(x; \\lambda) = \\begin{cases}\\lambda e^{-\\lambda x}, & \\text{for } x \\geq 0 \\\\ 0, & \\text{for } x < 0 \\end{cases}$$\n",
    "\n",
    "The maximum likelihood estimate for the lambda parameter is given by $\\hat{\\lambda} = \\frac{1}{\\mathbb{E}(X)}$.\n",
    "\n",
    "Now, the way we evaluate goodness-of-path is by computing the probability of transition success at each transfer point. Next, we assume each transfer is independent of the other for a given trip and hence the probability of success is given by cumulatively multiplying all these probabilities. Note that we assume that walking paths have no uncertainty (i.e the probability of transition success from a train/bus/tram to a walking path is 1).\n",
    "\n",
    "Let's say the scheduled arrival time at a stop is given by $S_a$, non-negative arrival delay by $d_a$ (a random variable, modelled via an exponential distribution) and scheduled departure by $S_d$. Mathematically, under the said assumptions, calculating probability of transition success implies finding $$\\mathbb{P}(S_a + d_a < S_d) = \\mathbb{P}(d_a < S_d - S_a)$$.\n",
    "\n",
    "\n",
    "This is equivalent to evaluating the CDF (cumulative distribution function) of the given exponential at $S_d - S_a$. The CDF of an exponential is given by $$F(x; \\lambda) = \\int_{-\\infty}^x f(t; \\lambda) dt = \\begin{cases} 1 - e^{-\\lambda x}, & \\text{for } x \\geq 0 \\\\ 0, & \\text{for } x < 0\\end{cases}$$"
   ]
  },
  {
   "cell_type": "code",
   "execution_count": 138,
   "metadata": {},
   "outputs": [],
   "source": [
    "## Exponential Distribution\n",
    "\n",
    "df_edges = df_edges.withColumn(\"lambda_arrival_delay\", get_lambda_mle(df_edges.delay_arrival))\n",
    "df_edges = df_edges.withColumn(\"lambda_departure_delay\", get_lambda_mle(df_edges.delay_departure))"
   ]
  },
  {
   "cell_type": "markdown",
   "metadata": {},
   "source": [
    "## Saving preprocessed data"
   ]
  },
  {
   "cell_type": "code",
   "execution_count": 21,
   "metadata": {},
   "outputs": [],
   "source": [
    "df_edges.write.parquet(\"/homes/alami/edges_2018_wd.parquet\")\n",
    "df_nodes.write.parquet(\"/homes/alami/nodes_2018_wd.parquet\")\n",
    "\n"
   ]
  },
  {
   "cell_type": "markdown",
   "metadata": {},
   "source": [
    "## Loading the dataframes"
   ]
  },
  {
   "cell_type": "code",
   "execution_count": null,
   "metadata": {},
   "outputs": [],
   "source": [
    "df_edges = spark.read.parquet(\"/homes/alami/edges_2018_wd.parquet\")\n",
    "df_nodes = spark.read.parquet(\"/homes/alami/nodes_2018_wd.parquet\")"
   ]
  },
  {
   "cell_type": "markdown",
   "metadata": {},
   "source": [
    "<a id='Building the graph'></a>\n",
    "## III. Building the graph\n",
    "\n",
    "We finally collect and pickle the node and edge dataframes and use NetworkX to create a Directed Multigraph, where nodes are stations and edges are trips between consecutive stations at a given departure time. Note that walking edges have no specific departure time and can be taken at every point in time. <br><br>\n",
    "\n",
    "<figure class=\"image\">\n",
    "  <img height=\"75%\" width=\"75%\" src=\"files/Trip Graph.png\" alt=\"Example excerpt of multi-digraph\">\n",
    "  <figcaption>Figure 1: Here, we show an example subgraph. Note that it is a multi-digraph, meaning that multiple directed edges can exist between a pair of nodes corresponding to the trip id, direction of trip and different schedule times. </figcaption>\n",
    "</figure>"
   ]
  },
  {
   "cell_type": "code",
   "execution_count": 141,
   "metadata": {},
   "outputs": [],
   "source": [
    "kept_cols = ['S_departure_time',\n",
    " 'S_arrival_time',\n",
    " 'trip_id',\n",
    " 'type',\n",
    " 'nb_stops',\n",
    " 'departure_station',\n",
    " 'arrival_station',\n",
    " 'scheduled_trip_time',\n",
    " 'src',\n",
    " 'dst',\n",
    " 'lambda_arrival_delay',\n",
    " 'lambda_departure_delay']"
   ]
  },
  {
   "cell_type": "code",
   "execution_count": 142,
   "metadata": {},
   "outputs": [],
   "source": [
    "df_edges_query = df_edges.select(*kept_cols)\n",
    "final_query_matrix = df_edges_query.toPandas()\n",
    "final_nodes_matrix = df_nodes.toPandas()"
   ]
  },
  {
   "cell_type": "code",
   "execution_count": 143,
   "metadata": {},
   "outputs": [],
   "source": [
    "# This operation could have been done in pyspark however we noticed that it runs faster on pandas\n",
    "final_query_matrix = final_query_matrix[final_query_matrix.src != final_query_matrix.dst].\\\n",
    "    drop_duplicates(subset=['S_departure_time','S_arrival_time','departure_station','arrival_station',\n",
    "                           'trip_id'])"
   ]
  },
  {
   "cell_type": "code",
   "execution_count": 146,
   "metadata": {},
   "outputs": [],
   "source": [
    "G = nx.MultiDiGraph()\n",
    "\n",
    "_= final_nodes_matrix.apply(add_to_graph_node,axis=1)\n",
    "_= final_query_matrix.apply(add_to_graph_edge,axis=1)"
   ]
  },
  {
   "cell_type": "markdown",
   "metadata": {},
   "source": [
    "The following line of codes allows to load the prebuilt graph from the cluster in order to run the visualization map without any further preprocessing"
   ]
  },
  {
   "cell_type": "code",
   "execution_count": 8,
   "metadata": {},
   "outputs": [],
   "source": [
    "with open('/home/alami/graph_nx.pkl','rb') as f:\n",
    "    G = pickle.load(f)"
   ]
  },
  {
   "cell_type": "code",
   "execution_count": 7,
   "metadata": {},
   "outputs": [],
   "source": [
    "with open('/home/alami/data_graph_2018.pkl','rb') as f:\n",
    "    final_nodes_matrix,final_query_matrix = pickle.load(f)"
   ]
  },
  {
   "cell_type": "markdown",
   "metadata": {},
   "source": [
    "<a id='Itinerary Generator'></a>\n",
    "## IV. Itinerary Generator\n",
    "\n",
    "To finally create relevant routes, we use a modified version of the Djikstra algorithm. For finding the shortest path from a source station to a target station at a specified departure time, we run the Djisktra algorithm and ignore all edges before the specified departure time. We also ignore edges if the time interval between connections (changing trip_id) is less than one minute. Moreover, our search algorithm also allows us to prune paths that arrive after a specified threshold time. \n",
    "\n",
    "Now in order to take into account uncertainty, we run the Djikstra algorithm to find the shortest path. If the latter does not meet our uncertainty threshold (i.e cumulative product of transition success probabilities in the path); we remove from the graph the edge with lowest lambda parameter in the path and rerun the search algorithm on the modified graph. This procedure is repeated iteratively until we find a path satisfying the uncertainty condition or we reach a maximum numbber of iterations. In our example we set the maximum number of iterations to 5.\n",
    "\n",
    "The routing functions are written in a separate python file \"routing_algo.py\"."
   ]
  },
  {
   "cell_type": "markdown",
   "metadata": {},
   "source": [
    "<a id='Mapv'></a>\n",
    "\n",
    "## V. Map visualisation"
   ]
  },
  {
   "cell_type": "code",
   "execution_count": 147,
   "metadata": {},
   "outputs": [],
   "source": [
    "CARTODBPOSITRON = get_provider(Vendors.CARTODBPOSITRON)"
   ]
  },
  {
   "cell_type": "code",
   "execution_count": 148,
   "metadata": {
    "scrolled": false
   },
   "outputs": [
    {
     "data": {
      "text/html": [
       "<style>\n",
       "    .bk.bk-menu.bk-below {\n",
       "    white-space: pre;\n",
       "    text-overflow: ellipsis;\n",
       "    max-height: 200px;\n",
       "    scroll-behavior: smooth;\n",
       "    overflow: auto;\n",
       "}\n",
       "</style>\n"
      ],
      "text/plain": [
       "<IPython.core.display.HTML object>"
      ]
     },
     "metadata": {},
     "output_type": "display_data"
    },
    {
     "data": {
      "text/html": [
       "<style>\n",
       " #path{\n",
       "            position: absolute;\n",
       "            font-size: x-large;\n",
       "            overflow: scroll;\n",
       "             text-overflow: ellipsis;\n",
       "            max-height: 500px;\n",
       "         margin-top: 20px !important;\n",
       "        }\n",
       "    \n",
       " #path table{\n",
       "        width: 80%;\n",
       "    }\n",
       " #path  td{\n",
       "        padding-bottom: 10px;\n",
       "    }\n",
       "    \n",
       ".table-header{\n",
       "    padding-bottom: 15px;\n",
       "    font-size: 15px;\n",
       "    color: rgb(120, 120, 120);\n",
       "}\n",
       "\n",
       ".path_header{\n",
       "    padding-bottom: 15px;\n",
       "    font-size: 20px;\n",
       "    color: rgb(60, 60, 60);\n",
       "    text-align:center;\n",
       "}\n",
       "#path{\n",
       "    margin: 0px;\n",
       "    font-family: sans-serif;\n",
       "    color: rgb(120, 120, 120);\n",
       "}\n",
       "#title_paths_div {\n",
       "  background-color: #4CAF50;\n",
       "  color: White;\n",
       "  padding: 1em ;\n",
       "   width:280% !important;\n",
       "    text-align: center;\n",
       "    display: inline-block;\n",
       "}\n",
       "\n",
       "\n",
       "</style>"
      ],
      "text/plain": [
       "<IPython.core.display.HTML object>"
      ]
     },
     "metadata": {},
     "output_type": "display_data"
    },
    {
     "data": {
      "text/html": [
       "\n",
       "\n",
       "\n",
       "\n",
       "\n",
       "\n",
       "  <div class=\"bk-root\" id=\"fa0aa651-6c5d-408c-bfe2-9c7e04b118b0\" data-root-id=\"1063\"></div>\n"
      ]
     },
     "metadata": {},
     "output_type": "display_data"
    },
    {
     "data": {
      "application/javascript": [
       "(function(root) {\n",
       "  function embed_document(root) {\n",
       "    \n",
       "  var docs_json = {\"6a5b94c5-be56-4502-85f6-803efdc518a7\":{\"roots\":{\"references\":[{\"attributes\":{\"children\":[{\"id\":\"1061\",\"type\":\"Row\"},{\"id\":\"1062\",\"type\":\"Row\"},{\"id\":\"1058\",\"type\":\"Button\"}],\"height\":800,\"width\":950},\"id\":\"1063\",\"type\":\"Column\"},{\"attributes\":{\"callback\":null,\"completions\":[\"Zimmerberg-Basistunnel\",\"Bonstetten-Wettswil\",\"Waldegg, Birmensdorferstrasse\",\"Z\\u00fcrich, Goldbrunnenplatz\",\"Z\\u00fcrich HB\",\"Z\\u00fcrich Altstetten\",\"Z\\u00fcrich Stadelhofen\",\"Z\\u00fcrich Tiefenbrunnen\",\"Z\\u00fcrich Oerlikon\",\"Z\\u00fcrich Seebach\",\"Z\\u00fcrich Affoltern\",\"Z\\u00fcrich Wollishofen\",\"Z\\u00fcrich Enge\",\"Z\\u00fcrich Wiedikon\",\"Z\\u00fcrich Wipkingen\",\"Z\\u00fcrich Flughafen\",\"Z\\u00fcrich Hardbr\\u00fccke\",\"Z\\u00fcrich Binz\",\"Z\\u00fcrich Friesenberg\",\"Z\\u00fcrich Schweighof\",\"Z\\u00fcrich Triemli\",\"Uitikon Waldegg\",\"Ringlikon\",\"Uetliberg\",\"Z\\u00fcrich Stadelhofen FB\",\"Zollikerberg\",\"Z\\u00fcrich Rehalp\",\"Waltikon\",\"Spital Zollikerberg\",\"Waldburg\",\"Felsenegg\",\"Adliswil (Luftseilbahnstation)\",\"Z\\u00fcrich, R\\u00f6merhof\",\"Z\\u00fcrich, Dolder\",\"Z\\u00fcrich Brunau\",\"Z\\u00fcrich Saalsporthalle\",\"Z\\u00fcrich HB SZU\",\"Wildpark-H\\u00f6fli\",\"Z\\u00fcrich Selnau\",\"Z\\u00fcrich Giessh\\u00fcbel\",\"Z\\u00fcrich Manegg\",\"Z\\u00fcrich Leimbach\",\"Sood-Oberleimbach\",\"Adliswil\",\"Sihlau\",\"Zollikon\",\"K\\u00fcsnacht ZH\",\"Erlenbach ZH\",\"D\\u00fcbendorf\",\"Wallisellen\",\"K\\u00fcsnacht Goldbach\",\"Stettbach\",\"Kilchberg\",\"R\\u00fcschlikon\",\"Thalwil\",\"Dietlikon\",\"Kloten\",\"Kloten Balsberg\",\"Glattbrugg\",\"R\\u00fcmlang\",\"Opfikon\",\"Z\\u00fcrich Landesmuseum (See)\",\"Z\\u00fcrich Storchen\",\"Z\\u00fcrich Enge (See)\",\"Z\\u00fcrich Central (Polybahn)\",\"Z\\u00fcrich Polyterrasse\",\"Regensdorf-Watt\",\"Birmensdorf ZH, Landikon Bach\",\"Birmensdorf ZH, Sternen/WSL\",\"Z\\u00fcrich, Triemli\",\"Z\\u00fcrich B\\u00fcrkliplatz (See)\",\"Z\\u00fcrichhorn (See)\",\"Zollikon (See)\",\"K\\u00fcsnacht ZH (See)\",\"Erlenbach ZH (See)\",\"Thalwil (See)\",\"R\\u00fcschlikon (See)\",\"Kilchberg ZH (See)\",\"Z\\u00fcrich Wollishofen (See)\",\"K\\u00fcsnacht ZH Heslibach\",\"Stallikon, Dorf\",\"Stallikon, Bleiki\",\"Wettswil a.A., Dorf\",\"Wettswil a.A., Heidenchilen\",\"Stallikon, Gamlikon\",\"Stallikon, Sellenb\\u00fcren\",\"Uitikon, Dorf\",\"Waldegg, Post\",\"Langnau a.A.,Schwerzi-Wildpark\",\"Hochschulen\",\"Z\\u00fcrich Seilbahn Rigiblick\",\"Z\\u00fcrich, Rigiblick\",\"Z\\u00fcrich Balgrist\",\"Z\\u00fcrich Hegibachplatz\",\"Z\\u00fcrich Kreuzplatz\",\"Z\\u00fcrich Limmatquai\",\"Langnau am Albis, Dorf\",\"Thalwil, Feldstrasse\",\"Thalwil, M\\u00fchlebachplatz\",\"Thalwil, Zentrum\",\"Thalwil, Bahnhof\",\"Z\\u00fcrich Flughafen, Bahnhof\",\"Kloten, Zum Wilden Mann\",\"Z\\u00fcrich Flughafen, Werft\",\"Kloten, Balsberg Hardacher\",\"Kloten, Kaserne Ost\",\"R\\u00fcmlang, Riedmatt\",\"R\\u00fcmlang, Bahnhof\",\"R\\u00fcmlang, R\\u00fcmelbach\",\"Glattbrugg, Unterriet\",\"Z\\u00fcrich Wiedikon, Bahnhof\",\"Z\\u00fcrich, S\\u00e4dlenweg\",\"Wettswil a.A., B\\u00e4umlis\\u00e4cher\",\"Wettswil a.A., Grund\",\"Ringlikon, Langwis\",\"Stallikon, Aegerten\",\"Bonstetten-Wettswil, Bahnhof\",\"Bonstetten, L\\u00e4rchenhof\",\"Stallikon, Diebis\",\"Uitikon, Roracher\",\"Uitikon, Halde\",\"Waldegg, Katholische Kirche\",\"Ringlikon, Dorf\",\"Ringlikon, G\\u00e4ttern\",\"Uitikon Waldegg, Bahnhof\",\"Kloten, Kirchgasse\",\"Kloten, Rankstrasse\",\"Z\\u00fcrich Tiefenbrunnen, Bahnhof\",\"Zollikon, Seestrasse\",\"Zollikon, Bahnhof\",\"Zollikon, Gemeindehaus\",\"Zollikon, H\\u00f6hestrasse\",\"Zollikon, Allmend\",\"Zollikon, Sch\\u00fctzenstrasse\",\"Zollikon, Rebwiesstrasse\",\"Z\\u00fcrich, Bellevue\",\"Z\\u00fcrich, Elektrowatt\",\"Z\\u00fcrich, Opernhaus\",\"Z\\u00fcrich, Kreuzstrasse\",\"Z\\u00fcrich, Feldeggstrasse\",\"Z\\u00fcrich, H\\u00f6schgasse\",\"Z\\u00fcrich, Fr\\u00f6hlichstrasse\",\"Z\\u00fcrich, Wildbachstrasse\",\"Zollikon, Bahn\\u00fcbergang\",\"Zollikon, Felbenstrasse\",\"Zollikon, Dufourplatz\",\"Zollikon, Beugi\",\"Zollikon, Goldhaldenplatz\",\"K\\u00fcsnacht ZH, B\\u00fchlstrasse\",\"K\\u00fcsnacht ZH, Goldbacherstrasse\",\"K\\u00fcsnacht ZH, Boglerenstrasse\",\"K\\u00fcsnacht ZH, Schiedhaldenstr.\",\"K\\u00fcsnacht ZH, Schiedhaldensteig\",\"K\\u00fcsnacht ZH, Sch\\u00fcbel\",\"Itschnach, Dorf\",\"Itschnach, Fallacher\",\"K\\u00fcsnacht ZH, Oberwacht\",\"K\\u00fcsnacht ZH, Ob. Heslibachstr.\",\"K\\u00fcsnacht ZH, Bergstrasse\",\"K\\u00fcsnacht ZH, Himmelistrasse\",\"K\\u00fcsnacht ZH, Hesligenstrasse\",\"K\\u00fcsnacht ZH, R\\u00e4nkestrasse\",\"K\\u00fcsnacht ZH, Allmend\",\"K\\u00fcsnacht ZH, Bahnhof\",\"Zumikon, G\\u00f6ssikon\",\"Zumikon, Waltikon\",\"Z\\u00fcrich, Meierhofplatz\",\"Z\\u00fcrich, Heizenholz\",\"Z\\u00fcrich, Gr\\u00fcnwald\",\"Regensdorf, Lettenhau\",\"Regensdorf, Obstgarten\",\"Regensdorf, Ostring\",\"Watt, Geerenweg\",\"Watt, Dorf\",\"Watt, Schulhaus\",\"Z\\u00fcrich, Zehntenhausplatz\",\"Z\\u00fcrich, Hungerbergstrasse\",\"Regensdorf, Chr\\u00fcz\\u00e4cher\",\"Wettswil a.A., Sch\\u00fcrli\",\"Wettswil a.A., Beerimoos\",\"Wettswil a.A., Dettenb\\u00fchl\",\"Wettswil a.A., Chilenholzstr.\",\"Wettswil a.A., Oberhusen\",\"Wettswil a.A., Egg\\u00e4cher\",\"Wettswil a.A., Heiss\\u00e4cherstr.\",\"Wettswil a.A., Strumberg\\u00e4cher\",\"Wettswil a.A., Rehweid\",\"Wettswil a.A., Lang\\u00e4cher\",\"Wettswil a.A., Moosstrasse\",\"Z\\u00fcrich Flughafen, OPC\",\"Kloten, Bramen\",\"Kloten, Lindenstrasse\",\"Kloten, M\\u00fchle\",\"Kloten, S\\u00e4ntisstrasse\",\"Glattbrugg, Riethofstrasse\",\"R\\u00fcmlang, Rumilobr\\u00fccke\",\"Z\\u00fcrich Oerlikon, Bahnhof\",\"Z\\u00fcrich, Escher-Wyss-Platz\",\"Opfikon, Schulstrasse\",\"Z\\u00fcrich, Schaufelbergerstrasse\",\"Stallikon, Loomatt\",\"Wettswil a.A., Schachenbach\",\"Stallikon, Langfuren\",\"Waldegg, Leuen\",\"Birmensdorf ZH, Landikon Dorf\",\"Z\\u00fcrich, Rote Fabrik\",\"Z\\u00fcrich, Bahnhofplatz/HB\",\"Z\\u00fcrich, Bahnhofquai/HB\",\"Kloten, Bahnhof\",\"Wallisellen, Glatt (Bus)\",\"Z\\u00fcrich, Altried\",\"D\\u00fcbendorf, Bahnhof\",\"Glattbrugg, Glatthof\",\"Wallisellen, Bahnhof\",\"Kloten Balsberg, Bahnhof\",\"Erlenbach ZH, Alterswohnheim\",\"Erlenbach ZH, Bahnhof\",\"Erlenbach ZH, Bahnhofstrasse\",\"Erlenbach ZH, Im Loo\",\"Z\\u00fcrich, Central\",\"Dietlikon, Bahnhof\",\"Z\\u00fcrich Flughafen, Fracht\",\"Kloten, Ackerstrasse\",\"Kloten, L\\u00e4gernstrasse\",\"Kloten, Neubrunnenstrasse\",\"Wallisellen, Bodenackerstrasse\",\"Wallisellen, Frohheimstrasse\",\"Wallisellen, Kaserne\",\"Wallisellen, Steinacker\",\"Z\\u00fcrich, Farbhof\",\"Adliswil, Badstrasse\",\"Adliswil, Bahnhof\",\"Adliswil, Baumgartenweg\",\"Adliswil, Bodenacker\",\"Adliswil, B\\u00fcchel\",\"Adliswil, Eichenweg\",\"Adliswil, Feldblumenstrasse\",\"Adliswil, Friedhof\",\"Adliswil, Baldernstrasse\",\"Adliswil, Gr\\u00fct\",\"Adliswil, Hofackerstrasse\",\"Adliswil, Krone\",\"Adliswil, Landolt-Junker-Str.\",\"Adliswil, Ahornweg\",\"Adliswil, Moos\",\"Adliswil, Poststrasse\",\"Adliswil, Zopf\",\"Adliswil, Rifertstrasse\",\"Adliswil, R\\u00fctistrasse/Wacht\",\"Adliswil, Schulhaus Kopfholz\",\"Adliswil, Tiefacker\",\"Adliswil, Tobelhof\",\"Adliswil, Wanneten-/Haldenstr.\",\"Binz bei Maur, Fridlimatt\",\"D\\u00fcbendorf, Sport Heerensch\\u00fcrli\",\"Dietlikon, Aegert\",\"Dietlikon, Dornenstrasse\",\"Dietlikon, D\\u00fcbendorferstrasse\",\"Dietlikon, H\\u00f6rnligraben\",\"Dietlikon, Industriestrasse\",\"D\\u00fcbendorf, Alterszentrum\",\"D\\u00fcbendorf, Bahnhof Nord\",\"D\\u00fcbendorf, Bettlistrasse\",\"D\\u00fcbendorf, Breitibach\",\"D\\u00fcbendorf, Chriesmatt\",\"D\\u00fcbendorf, City Center\",\"D\\u00fcbendorf, Claridenstrasse\",\"D\\u00fcbendorf, EMPA\",\"D\\u00fcbendorf, Giessen\",\"D\\u00fcbendorf, Gr\\u00fczenstrasse\",\"D\\u00fcbendorf, Hoffnung\",\"D\\u00fcbendorf, H\\u00f6gler\",\"D\\u00fcbendorf, Im Grund\",\"D\\u00fcbendorf, K\\u00e4mmaten\",\"D\\u00fcbendorf, Kirche Wil\",\"D\\u00fcbendorf, Kreuzb\\u00fchl\",\"D\\u00fcbendorf, Kunsteisbahn\",\"D\\u00fcbendorf, Lindenplatz\",\"D\\u00fcbendorf, Meiershofstrasse\",\"D\\u00fcbendorf, Memphis\",\"Wallisellen, Neugut\",\"D\\u00fcbendorf, Neugut S\\u00fcd\",\"D\\u00fcbendorf, Post\",\"D\\u00fcbendorf, Ringstrasse\",\"D\\u00fcbendorf, Ringwiesen\",\"D\\u00fcbendorf, Schwimmbad\",\"D\\u00fcbendorf, Sonnental\",\"D\\u00fcbendorf, Stadthaus\",\"D\\u00fcbendorf, Unterdorf\",\"D\\u00fcbendorf, Wasserfurren\",\"D\\u00fcbendorf, Zelglistrasse\",\"D\\u00fcbendorf, Zwinggarten\",\"Glattbrugg, Bahnhof\",\"Glattbrugg, Frohb\\u00fchlstrasse\",\"Glattbrugg, Giebeleichstrasse\",\"Glattbrugg, Halden\",\"Glattbrugg, L\\u00e4ttenwiesen\",\"Glattbrugg, Lindberghplatz\",\"Glattbrugg, Mode Center TMC\",\"Glattbrugg, Oberhusen\",\"Glattbrugg, Post\",\"Glattbrugg, Zentrum\",\"Glattbrugg, Zil\",\"Glattpark, Chavez-Allee\",\"Glattpark, Lindbergh-Allee\",\"Gockhausen, Ursprungstrasse\",\"Itschnach, Rebweg\",\"Itschnach, T\\u00e4germoos\",\"Kilchberg ZH, Altersheim\",\"Kilchberg ZH, Auf Brunnen\",\"Kilchberg ZH, B\\u00e4chlerstrasse\",\"Kilchberg ZH, Bahnhof\",\"Kilchberg ZH, Bendlikon\",\"Kilchberg ZH, Gottlieb-Binder\",\"Kilchberg ZH, Hornhaldenstr.\",\"Kilchberg ZH, Kirche\",\"Kilchberg ZH, Spital\",\"Kilchberg ZH, Kreuzstrasse\",\"Kilchberg ZH, Lindt & Spr\\u00fcngli\",\"Kilchberg ZH, Mythenstrasse\",\"Kilchberg ZH, Paradiessteig\",\"Kilchberg ZH, Paradiesstrasse\",\"Kilchberg ZH, Sanatorium\",\"Kilchberg ZH, Schlimbergstr.\",\"Kilchberg ZH, Schooren\",\"Kilchberg ZH, Schoorenstrasse\",\"Kilchberg ZH,Schulhaus Dorfstr\",\"Kilchberg ZH, Schwelle\",\"Kilchberg ZH, Stockengut\",\"Kilchberg ZH, Weinbergstrasse\",\"Kloten, Breitistrasse/Bahnhof\",\"Kloten, Buchhalden\",\"Kloten, Obstgartenstrasse\",\"Kloten, Schluefweg\",\"Kloten, Schulstrasse\",\"Kloten, Stadthaus\",\"Kloten, Wallisellenstrasse\",\"K\\u00fcsnacht ZH, Gartenstrasse\",\"K\\u00fcsnacht ZH, Hallenbad\",\"K\\u00fcsnacht ZH, Oberfeld\",\"K\\u00fcsnacht ZH, Reform. Kirche\",\"K\\u00fcsnacht ZH, Zentrum\",\"Oberengstringen, Eggb\\u00fchl\",\"Oberengstringen, Lanzrain\",\"Oberengstringen, Paradies\",\"Oberengstringen, Zentrum\",\"Opfikon, Aublick\",\"Opfikon, Austrasse\",\"Opfikon, Bahnhof\",\"Opfikon, Bubenholz\",\"Opfikon, Dorf\",\"Opfikon, Fernsicht\",\"Opfikon, Gr\\u00e4tzli\",\"Opfikon, Grossacker\",\"Opfikon, Neuwiesen\",\"Opfikon, Vreniker\",\"Pfaffhausen, Feldhof\",\"Pfaffhausen, Pfaffenstein\",\"Pfaffhausen, S\\u00e4ngglen\",\"Regensdorf, Zentrum Ost\",\"R\\u00fcmlang, B\\u00e4uler\",\"R\\u00fcmlang, Letten\",\"R\\u00fcmlang, Oberdorf\",\"R\\u00fcmlang, Gemeindehaus\",\"R\\u00fcmlang, Riedmattstrasse\",\"R\\u00fcschlikon, Bahnhof\",\"R\\u00fcschlikon, Belvoir\",\"R\\u00fcschlikon, Bodengasse\",\"R\\u00fcschlikon, Eggrain\",\"R\\u00fcschlikon, Langhaldenstrasse\",\"R\\u00fcschlikon, Loorain\",\"R\\u00fcschlikon, Moosstrasse\",\"R\\u00fcschlikon, Park im Gr\\u00fcene\",\"R\\u00fcschlikon, Rebsteig\",\"R\\u00fcschlikon, S\\u00e4umerstrasse\",\"R\\u00fcschlikon, Schlossstrasse\",\"R\\u00fcschlikon, Weidstrasse\",\"Schlieren, Gasometerbr\\u00fccke\",\"Schlieren, Industrie Gaswerk\",\"Schlieren, M\\u00fclligen\",\"Schlieren, R\\u00fctistrasse\",\"Schlieren, Wagonsfabrik\",\"Thalwil, Aegertli\",\"Thalwil, Archstrasse\",\"Thalwil, In Reben\",\"Thalwil, Park im Gr\\u00fcene\",\"Thalwil, Pilgerweg\",\"Thalwil, Post\",\"Thalwil, Rudishaldenstrasse\",\"Thalwil, Seehaldenstrasse\",\"Thalwil, Trotte\",\"Regensdorf-Watt, Bahnhof\",\"Waldburg, Station\",\"Wallisellen, Alterszentrum\",\"Wallisellen, Belair\",\"Wallisellen, Blumenweg\",\"Wallisellen, B\\u00fctzacker\",\"Wallisellen, Florastrasse\",\"Wallisellen, Furtbach\",\"Wallisellen, Gemeindehaus\",\"Wallisellen, Guyer-Weg\",\"Wallisellen, Hallenbad\",\"Wallisellen, Herti\",\"Wallisellen, Ifang\",\"Wallisellen, Lindenplatz\",\"Wallisellen, Riedenerstrasse\",\"Wallisellen, Rosenberg\",\"Wallisellen, Sch\\u00e4fligraben\",\"Wallisellen, Spitzacker\",\"Wallisellen, Sportzentrum\",\"Wallisellen, Zentrum\",\"Wallisellen, Zielacker\",\"Watt, Br\\u00fcnigstrasse\",\"Zollikerb., Lang\\u00e4gerten/Spital\",\"Zollikerberg, Hasenbart\",\"Zollikerberg, Oberhueb\",\"Zollikerberg, Resirain\",\"Zollikerberg, Sennhof\",\"Zollikerberg, Station\",\"Zollikerberg, Trichtenhauserm.\",\"Z\\u00fcrich Flughafen, REGA\",\"Z\\u00fcrich Flughafen, Werkhof\",\"Z\\u00fcrich, Aargauerstrasse\",\"Z\\u00fcrich, Albisg\\u00fctli\",\"Z\\u00fcrich, Albisrank\",\"Z\\u00fcrich, Albisrieden\",\"Z\\u00fcrich, Albisriederd\\u00f6rfli\",\"Z\\u00fcrich, Albisriederplatz\",\"Z\\u00fcrich, Alte Trotte\",\"Z\\u00fcrich, Altenhofstrasse\",\"Z\\u00fcrich, Althoos\",\"Z\\u00fcrich, Am B\\u00f6rtli\",\"Z\\u00fcrich, Am Suteracher\",\"Z\\u00fcrich, Appenzellerstrasse\",\"Z\\u00fcrich, Aspholz\",\"Z\\u00fcrich, Aubr\\u00fccke\",\"Z\\u00fcrich, Ausserdorfstrasse\",\"Z\\u00fcrich, Auzelg\",\"Z\\u00fcrich, Auzelg Ost\",\"Z\\u00fcrich, Bachmattstrasse\",\"Z\\u00fcrich, B\\u00e4ckeranlage\",\"Z\\u00fcrich, Bad Allenmoos\",\"Z\\u00fcrich Affoltern, Bahnhof\",\"Z\\u00fcrich Affoltern, Bahnhof S\\u00fcd\",\"Z\\u00fcrich Altstetten, Bahnhof\",\"Z\\u00fcrich Altstetten, Bahnhof N\",\"Z\\u00fcrich Enge, Bahnhof\",\"Z\\u00fcrich Enge, Bahnhof/Bederstr.\",\"Z\\u00fcrich Hardbr\\u00fccke, Bahnhof\",\"Z\\u00fcrich Leimbach, Bahnhof\",\"Z\\u00fcrich Oerlikon, Bahnhof Nord\",\"Z\\u00fcrich Oerlikon, Bahnhof Ost\",\"Z\\u00fcrich Selnau, Bahnhof\",\"Stettbach, Bahnhof\",\"Z\\u00fcrich Wipkingen, Bahnhof\",\"Z\\u00fcrich, Bahnhofstrasse/HB\",\"Z\\u00fcrich, B\\u00e4ndliweg\",\"Z\\u00fcrich, Baslerstrasse\",\"Z\\u00fcrich, Beckenhof\",\"Z\\u00fcrich, Berghaldenstrasse\",\"Z\\u00fcrich, Berninaplatz\",\"Z\\u00fcrich, Bernoulli-H\\u00e4user\",\"Z\\u00fcrich, Bertastrasse\",\"Z\\u00fcrich, Berufswahlschule\",\"Z\\u00fcrich, Besenrainstrasse\",\"Z\\u00fcrich, Bethanien\",\"Z\\u00fcrich, Bezirksgeb\\u00e4ude\",\"Z\\u00fcrich Wollishofen, Bhf (Bus)\",\"Z\\u00fcrich Wollishofen, Bhf (Tram)\",\"Z\\u00fcrich, Billoweg\",\"Z\\u00fcrich, Grubenstrasse\",\"Z\\u00fcrich, Binz Center\",\"Z\\u00fcrich, Birch-/Glatttalstrasse\",\"Z\\u00fcrich, Birchd\\u00f6rfli\",\"Z\\u00fcrich, Bircher-Benner\",\"Z\\u00fcrich, Birchstrasse\",\"Z\\u00fcrich, Bleulerstrasse\",\"Z\\u00fcrich, Blumenfeldstrasse\",\"Z\\u00fcrich, Bocklerstrasse\",\"Z\\u00fcrich, Bollingerweg\",\"Z\\u00fcrich, B\\u00f6rsenstrasse\",\"Z\\u00fcrich, Botanischer Garten\",\"Z\\u00fcrich, Brandschenkestrasse\",\"Z\\u00fcrich, Bristenstrasse\",\"Z\\u00fcrich, Brunau/Mutschellenstr.\",\"Z\\u00fcrich, Brunaustrasse\",\"Z\\u00fcrich, Bucheggplatz\",\"Z\\u00fcrich, Buchholz\",\"Z\\u00fcrich, Buhnstrasse\",\"Z\\u00fcrich, Burgwies\",\"Z\\u00fcrich, B\\u00fcrkliplatz\",\"Z\\u00fcrich, Butzenstrasse\",\"Z\\u00fcrich, Carl-Spitteler-Strasse\",\"Z\\u00fcrich, Chaletweg\",\"Z\\u00fcrich, Chinagarten\",\"Z\\u00fcrich, Dammweg\",\"Z\\u00fcrich, Dangelstrasse\",\"Z\\u00fcrich, Dorflinde\",\"Z\\u00fcrich, Dreispitz\",\"Z\\u00fcrich, Dreiwiesen\",\"Z\\u00fcrich, Drusbergstrasse\",\"Z\\u00fcrich, Dunkelh\\u00f6lzli\",\"Z\\u00fcrich, Einfangstrasse\",\"Z\\u00fcrich, Englischviertelstrasse\",\"Z\\u00fcrich, EPI-Klinik\",\"Z\\u00fcrich, Eschergutweg\",\"Z\\u00fcrich, ETH H\\u00f6nggerberg\",\"Z\\u00fcrich, ETH/Universit\\u00e4tsspital\",\"Z\\u00fcrich, Ettenfeld\",\"Z\\u00fcrich, Fellenbergstrasse\",\"Z\\u00fcrich, Felsenrainstrasse\",\"Z\\u00fcrich, Fernsehstudio\",\"Z\\u00fcrich, Feusisbergli\",\"Z\\u00fcrich, Fischerweg\",\"Z\\u00fcrich, Flobotstrasse\",\"Z\\u00fcrich, Fl\\u00fchgasse\",\"Z\\u00fcrich, Flurstrasse\",\"Z\\u00fcrich, F\\u00f6rrlibuckstrasse\",\"Z\\u00fcrich, Frankental\",\"Z\\u00fcrich, Freiestrasse\",\"Z\\u00fcrich, Freihofstrasse\",\"Z\\u00fcrich, Friedackerstrasse\",\"Z\\u00fcrich, Friedhof Eichb\\u00fchl\",\"Z\\u00fcrich, Friedhof Enzenb\\u00fchl\",\"Z\\u00fcrich, Friedhof H\\u00f6nggerberg\",\"Z\\u00fcrich, Friedhof Schwandenholz\",\"Z\\u00fcrich, Friedhof Sihlfeld\",\"Z\\u00fcrich, Friedhof Uetliberg\",\"Z\\u00fcrich, Friedhof Witikon\",\"Z\\u00fcrich, Friedrichstrasse\",\"Z\\u00fcrich, Friesenberg\",\"Z\\u00fcrich, Friesenberghalde\",\"Z\\u00fcrich, Friesenbergstrasse\",\"Z\\u00fcrich, Frohburg\",\"Z\\u00fcrich, Fronwald\",\"Z\\u00fcrich, Frymannstrasse\",\"Z\\u00fcrich, Geeringstrasse\",\"Z\\u00fcrich, Germaniastrasse\",\"Z\\u00fcrich, Giblenstrasse\",\"Z\\u00fcrich, Glattwiesen\",\"Z\\u00fcrich, Glaubtenstrasse\",\"Z\\u00fcrich, Glaubtenstrasse S\\u00fcd\",\"Z\\u00fcrich, Glockenacker\",\"Z\\u00fcrich, Goldackerweg\",\"Z\\u00fcrich, Goldauerstrasse\",\"Z\\u00fcrich, Grimselstrasse\",\"Z\\u00fcrich, Gr\\u00fcnaustrasse\",\"Z\\u00fcrich, Guggachstrasse\",\"Z\\u00fcrich, G\\u00fcterbahnhof\",\"Z\\u00fcrich, Gutstrasse\",\"Z\\u00fcrich, Hadlaubstrasse\",\"Z\\u00fcrich, Hagenholz\",\"Z\\u00fcrich, Haldenbach\",\"Z\\u00fcrich, Haldenegg\",\"Z\\u00fcrich, Hallenbad Oerlikon\",\"Z\\u00fcrich, Hardhof\",\"Z\\u00fcrich, Hardplatz\",\"Z\\u00fcrich, Hardturm\",\"Z\\u00fcrich, Hedwigsteig\",\"Z\\u00fcrich, Heerenwiesen\",\"Z\\u00fcrich, Hegianwandweg\",\"Z\\u00fcrich, Helmhaus\",\"Z\\u00fcrich, Helvetiaplatz\",\"Z\\u00fcrich, Herbstweg\",\"Z\\u00fcrich, Herdernstrasse\",\"Z\\u00fcrich, Hertensteinstrasse\",\"Z\\u00fcrich, Herzogenm\\u00fchlestrasse\",\"Z\\u00fcrich, Heubeeriweg\",\"Z\\u00fcrich, Heuried\",\"Z\\u00fcrich, Himmeri\",\"Z\\u00fcrich, Hinterbergstrasse\",\"Z\\u00fcrich, Hirschwiesenstrasse\",\"Z\\u00fcrich, Hirzenbach\",\"Z\\u00fcrich, H\\u00f6fliweg\",\"Z\\u00fcrich, Hofstrasse\",\"Z\\u00fcrich, Hohenklingensteig\",\"Z\\u00fcrich, H\\u00f6lderlinsteig\",\"Z\\u00fcrich, H\\u00f6lderlinstrasse\",\"Z\\u00fcrich, Holzerhurd\",\"Z\\u00fcrich, H\\u00f6nggerberg\",\"Z\\u00fcrich, Hottingerplatz\",\"Z\\u00fcrich, Hubertus\",\"Z\\u00fcrich, H\\u00fcgelstrasse\",\"Z\\u00fcrich, H\\u00fcrlimannplatz\",\"Z\\u00fcrich, H\\u00fcrstholz\",\"Z\\u00fcrich, Im Ebnet\",\"Z\\u00fcrich, Im Gut\",\"Z\\u00fcrich, Im Hagacker\",\"Z\\u00fcrich, Im H\\u00fcsli\",\"Z\\u00fcrich, Im Kl\\u00f6sterli\",\"Z\\u00fcrich, Im Walder\",\"Z\\u00fcrich, Im Wingert\",\"Z\\u00fcrich, In der Ey\",\"Z\\u00fcrich, Juchhof\",\"Z\\u00fcrich, Jugendherberge\",\"Z\\u00fcrich, Kalchb\\u00fchlweg\",\"Z\\u00fcrich,Kalkbreite/Bhf.Wiedikon\",\"Z\\u00fcrich, Kanonengasse\",\"Z\\u00fcrich, Kantonsschule\",\"Z\\u00fcrich, Kapfstrasse\",\"Z\\u00fcrich, Kappeli\",\"Z\\u00fcrich, Kappenb\\u00fchlweg\",\"Z\\u00fcrich, K\\u00e4shaldenstrasse\",\"Z\\u00fcrich, Genossenschaftsstrasse\",\"Z\\u00fcrich, Kempfhofsteig\",\"Z\\u00fcrich, Kernstrasse\",\"Z\\u00fcrich, Kienastenwies\",\"Z\\u00fcrich, Kinkelstrasse\",\"Z\\u00fcrich, Kirche Fluntern\",\"Z\\u00fcrich, Klosbach\",\"Z\\u00fcrich, Klusplatz\",\"Z\\u00fcrich, K\\u00f6schenr\\u00fcti\",\"Z\\u00fcrich, Krematorium Nordheim\",\"Z\\u00fcrich, Altes Krematorium\",\"Z\\u00fcrich, Kronenstrasse\",\"Z\\u00fcrich, Kr\\u00f6nleinstrasse\",\"Z\\u00fcrich, Kunsthaus\",\"Z\\u00fcrich, L\\u00e4gernstrasse\",\"Z\\u00fcrich, Landiwiese\",\"Z\\u00fcrich, Langensteinenstrasse\",\"Z\\u00fcrich, Langgr\\u00fctstrasse\",\"Z\\u00fcrich, Langmauerstrasse\",\"Z\\u00fcrich, Laubegg\",\"Z\\u00fcrich, Laubiweg\",\"Z\\u00fcrich, Lehenstrasse\",\"Z\\u00fcrich, Leimgr\\u00fcbelstrasse\",\"Z\\u00fcrich, Lerchenhalde\",\"Z\\u00fcrich, Lerchenrain\",\"Z\\u00fcrich, Lettenstrasse\",\"Z\\u00fcrich, Letzigrund\",\"Z\\u00fcrich, Letzipark\",\"Z\\u00fcrich, Letzipark West\",\"Z\\u00fcrich, Letzistrasse\",\"Z\\u00fcrich, Leutschenbach\",\"Z\\u00fcrich, Limmatplatz\",\"Z\\u00fcrich, Lindenplatz\",\"Z\\u00fcrich, Lochergut\",\"Z\\u00fcrich, Loogarten\",\"Z\\u00fcrich, Loorenstrasse\",\"Z\\u00fcrich, L\\u00f6wenplatz\",\"Z\\u00fcrich, Luchswiesen\",\"Z\\u00fcrich, Luegisland\",\"Z\\u00fcrich, Luggwegstrasse\",\"Z\\u00fcrich, Maienweg\",\"Z\\u00fcrich, Maillartstrasse\",\"Z\\u00fcrich, Manegg\",\"Z\\u00fcrich, Manesseplatz\",\"Z\\u00fcrich, Marbachweg\",\"Z\\u00fcrich, Mattenhof\",\"Z\\u00fcrich, Max-Bill-Platz\",\"Z\\u00fcrich, Messe/Hallenstadion\",\"Z\\u00fcrich, Micafil\",\"Z\\u00fcrich, Michelstrasse\",\"Z\\u00fcrich, Milchbuck\",\"Z\\u00fcrich, Milit\\u00e4r-/Langstrasse\",\"Z\\u00fcrich, Mittelleimbach\",\"Z\\u00fcrich, Morgental\",\"Z\\u00fcrich, M\\u00f6tteliweg\",\"Z\\u00fcrich, M\\u00fchlacker\",\"Z\\u00fcrich, Museum f\\u00fcr Gestaltung\",\"Z\\u00fcrich, Museum Rietberg\",\"Z\\u00fcrich, Neeserweg\",\"Z\\u00fcrich, Neuaffoltern\",\"Z\\u00fcrich, Neub\\u00fchl\",\"Z\\u00fcrich, Neumarkt\",\"Z\\u00fcrich, Neunbrunnen\",\"Z\\u00fcrich, Nordheimstrasse\",\"Z\\u00fcrich, Nordstrasse\",\"Z\\u00fcrich, N\\u00fcrenbergstrasse\",\"Z\\u00fcrich, Oberwiesenstrasse\",\"Z\\u00fcrich, Oerlikerhus\",\"Z\\u00fcrich, Okenstrasse\",\"Z\\u00fcrich, Orionstrasse\",\"Z\\u00fcrich, Ottikerstrasse\",\"Z\\u00fcrich, Paradeplatz\",\"Z\\u00fcrich, Stodolastrasse\",\"Z\\u00fcrich, Pflegezentr. K\\u00e4ferberg\",\"Z\\u00fcrich, Platte\",\"Z\\u00fcrich, Post Wollishofen\",\"Z\\u00fcrich, Probstei\",\"Z\\u00fcrich, Quellenstrasse\",\"Z\\u00fcrich, Radiostudio\",\"Z\\u00fcrich, R\\u00e4ffelstrasse\",\"Z\\u00fcrich, Rathaus\",\"Z\\u00fcrich, Rautihalde\",\"Z\\u00fcrich, Rautistrasse\",\"Z\\u00fcrich, Rebbergsteig\",\"Z\\u00fcrich, Regensbergbr\\u00fccke\",\"Z\\u00fcrich, Rehalp\",\"Z\\u00fcrich, Rennweg\",\"Z\\u00fcrich, Rentenanstalt\",\"Z\\u00fcrich, Riedbach\",\"Z\\u00fcrich, Riedgraben\",\"Z\\u00fcrich, Riedhofstrasse\",\"Z\\u00fcrich, R\\u00f6ntgenstrasse\",\"Z\\u00fcrich, Rosengartenstrasse\",\"Z\\u00fcrich, R\\u00f6slistrasse\",\"Z\\u00fcrich, Roswiesen\",\"Z\\u00fcrich, Rotbuchstrasse\",\"Z\\u00fcrich, Rudolf-Brun-Br\\u00fccke\",\"Z\\u00fcrich, R\\u00fctihof\",\"Z\\u00fcrich, Saalsporthalle\",\"Z\\u00fcrich, Saatlenstrasse\",\"Z\\u00fcrich, Sackzelg\",\"Z\\u00fcrich, Salersteig\",\"Z\\u00fcrich, Salzweg\",\"Z\\u00fcrich, SBB-Werkst\\u00e4tte\",\"Z\\u00fcrich, Schaffhauserplatz\",\"Z\\u00fcrich, Sch\\u00e4ppiweg\",\"Z\\u00fcrich, Schauenberg\",\"Z\\u00fcrich, Scheuchzerstrasse\",\"Z\\u00fcrich, Schlyfi\",\"Z\\u00fcrich, Schmiede Wiedikon\",\"Z\\u00fcrich, Sch\\u00f6nauring\",\"Z\\u00fcrich, Sch\\u00f6rlistrasse\",\"Z\\u00fcrich, Schulhaus Altweg\",\"Z\\u00fcrich, Schulhaus Buchlern\",\"Z\\u00fcrich, Schumacherweg\",\"Z\\u00fcrich, Sch\\u00fcrgistrasse\",\"Z\\u00fcrich, Sch\\u00fctzenhaus H\\u00f6ngg\",\"Z\\u00fcrich, Schwamendingerplatz\",\"Z\\u00fcrich, Schwandenholz\",\"Z\\u00fcrich, Schweighof\",\"Z\\u00fcrich, Schweizer R\\u00fcck\",\"Z\\u00fcrich, Schwert\",\"Z\\u00fcrich, Seebach\",\"Z\\u00fcrich, Seebacherplatz\",\"Z\\u00fcrich, Seerose\",\"Z\\u00fcrich, Segantinistrasse\",\"Z\\u00fcrich, Segeten\",\"Z\\u00fcrich, Seidelhof\",\"Z\\u00fcrich, Seilbahn Rigiblick\",\"Z\\u00fcrich, Siemens\",\"Z\\u00fcrich, Signaustrasse\",\"Z\\u00fcrich, Sihlcity\",\"Z\\u00fcrich, Sihlcity Nord\",\"Z\\u00fcrich, Sihlpost/HB\",\"Z\\u00fcrich, Sihlquai/HB\",\"Z\\u00fcrich, Sihlstrasse\",\"Z\\u00fcrich, Sihlweidstrasse\",\"Z\\u00fcrich, Singlistrasse\",\"Z\\u00fcrich, Solidapark\",\"Z\\u00fcrich, Sonneggstrasse\",\"Z\\u00fcrich, Sportweg\",\"Z\\u00fcrich, Sprecherstrasse\",\"Z\\u00fcrich, Spyriplatz\",\"Z\\u00fcrich, Spyristeig\",\"Z\\u00fcrich, Stadtgrenze\",\"Z\\u00fcrich, Stampfenbachplatz\",\"Z\\u00fcrich, Staudenb\\u00fchl\",\"Z\\u00fcrich, Stauffacher\",\"Z\\u00fcrich, Sternen Oerlikon\",\"Z\\u00fcrich, Stierenried\",\"Z\\u00fcrich, Stockerstrasse\",\"Z\\u00fcrich, Strassenverkehrsamt\",\"Z\\u00fcrich, Strickhof\",\"Z\\u00fcrich, Sukkulentensammlung\",\"Z\\u00fcrich, Sunnau\",\"Z\\u00fcrich, Susenbergstrasse\",\"Z\\u00fcrich, Talwiesenstrasse\",\"Z\\u00fcrich, Technopark\",\"Z\\u00fcrich, Thujastrasse\",\"Z\\u00fcrich, Tierspital\",\"Z\\u00fcrich, Titlisstrasse\",\"Z\\u00fcrich, Tobelhof\",\"Z\\u00fcrich, Toblerplatz\",\"Z\\u00fcrich, Toni-Areal\",\"Z\\u00fcrich, Trichtenhausenfussweg\",\"Z\\u00fcrich, Trichtisal\",\"Z\\u00fcrich, Triemlispital\",\"Z\\u00fcrich, T\\u00fcffenwies\",\"Z\\u00fcrich, Tulpenstrasse\",\"Z\\u00fcrich, Tunnelstrasse\",\"Z\\u00fcrich, Uetlihof\",\"Z\\u00fcrich, Universit\\u00e4t Irchel\",\"Z\\u00fcrich, Unteraffoltern\",\"Z\\u00fcrich, Untermoosstrasse\",\"Z\\u00fcrich, Verenastrasse\",\"Z\\u00fcrich, Vogelsangstrasse\",\"Z\\u00fcrich, Voltastrasse\",\"Z\\u00fcrich, Vulkanstrasse\",\"Z\\u00fcrich, Waffenplatz-/Bederstr.\",\"Z\\u00fcrich, Waffenplatzstrasse\",\"Z\\u00fcrich, Waidbadstrasse\",\"Z\\u00fcrich, Waidfussweg\",\"Z\\u00fcrich, Waidhof\",\"Z\\u00fcrich, Waidspital\",\"Z\\u00fcrich, Waldgarten\",\"Z\\u00fcrich, Waldhaus Dolder\",\"Z\\u00fcrich, Wartau\",\"Z\\u00fcrich, Waserstrasse\",\"Z\\u00fcrich, Weihersteig\",\"Z\\u00fcrich, Werd\",\"Z\\u00fcrich, Werdh\\u00f6lzli\",\"Z\\u00fcrich, Wetlistrasse\",\"Z\\u00fcrich, Widmerstrasse\",\"Z\\u00fcrich, Wieslergasse\",\"Z\\u00fcrich, Wiesliacher\",\"Z\\u00fcrich, Winkelriedstrasse\",\"Z\\u00fcrich, Winzerhalde\",\"Z\\u00fcrich, Winzerstrasse\",\"Z\\u00fcrich, Winzerstrasse S\\u00fcd\",\"Z\\u00fcrich, Wipkingerplatz\",\"Z\\u00fcrich, Witikon Zentrum\",\"Z\\u00fcrich, Wollishofen\",\"Z\\u00fcrich, Wonnebergstrasse\",\"Z\\u00fcrich, Zielweg\",\"Z\\u00fcrich, Zoo\",\"Z\\u00fcrich, Zoo/Forrenweid\",\"Z\\u00fcrich, Z\\u00fcrichbergstrasse\",\"Z\\u00fcrich, Zweiackerstrasse\",\"Z\\u00fcrich, Zwielplatz\",\"Z\\u00fcrich, Zwinglihaus\",\"Z\\u00fcrich, Zypressenstrasse\",\"Z\\u00fcrich, Binz\",\"Binz bei Maur, Post\",\"Glattpark, Glattpark\",\"Gockhausen, Dorf\",\"Pfaffhausen, M\\u00fcseren\",\"Z\\u00fcrich, W\\u00fcrzgraben\",\"Zollikerberg, Spital\",\"Z\\u00fcrich Flughafen, Im Rohr\",\"Glattpark, Wright-Strasse\",\"Wallisellen, Haldenstrasse\",\"Wallisellen, Friedhof\",\"Wallisellen, Schulhaus B\\u00fcrgli\",\"Wallisellen, S\\u00e4ntisstrasse\",\"Wallisellen, Guggenb\\u00fchlstrasse\",\"Wallisellen, Glatt (Tram)\",\"R\\u00fcmlang, H\\u00f6rnlistrasse\",\"Z\\u00fcrich, Schiffbau\",\"Kilchberg ZH, Breitloo\",\"Kilchberg ZH, Emilienheim\",\"Kilchberg ZH, Obere Hornhalde\",\"Z\\u00fcrich, Schanzackerstrasse\",\"D\\u00fcbendorf, Hochbord Nord\",\"Opfikon, Schwimmbad\",\"Dietlikon, Fuchshalde\",\"Dietlikon, Hinentalstrasse\",\"Dietlikon, In Lampitz\\u00e4ckern\",\"Dietlikon, Lettenstrasse\",\"Dietlikon, Riedenerstrasse\",\"Dietlikon, Zentrum\",\"Thalwil, Sonnenberg\",\"R\\u00fcmlang, Heuelstrasse\",\"R\\u00fcmlang, Ifangstrasse\",\"R\\u00fcmlang, Chilestieg\",\"R\\u00fcmlang, Hofwisenunterf\\u00fchrung\",\"R\\u00fcmlang, Z\\u00fcrichweg\",\"Adliswil, Grundstrasse\",\"Z\\u00fcrich, Glaubtenstrasse Nord\",\"Binz bei Maur, Tw\\u00e4racher\",\"D\\u00fcbendorf, Hochbord S\\u00fcd\"],\"js_property_callbacks\":{\"change:value\":[{\"id\":\"1055\",\"type\":\"CustomJS\"}]},\"sizing_mode\":\"scale_both\",\"title\":\"To:\"},\"id\":\"1054\",\"type\":\"AutocompleteInput\"},{\"attributes\":{},\"id\":\"1031\",\"type\":\"WheelZoomTool\"},{\"attributes\":{\"code\":\"\\n function callback(msg){\\n            console.log(\\\"Python callback returned unexpected message:\\\", msg)\\n        }\\nvar callbacks = {iopub: {output: callback}};\\nconsole.log(cb_obj.value)\\nif (IPython.notebook.kernel !== undefined) {\\n    var kernel = IPython.notebook.kernel;\\n    cmd = \\\"selected_dst=('\\\" + cb_obj.value + \\\"')\\\";\\n    kernel.execute(cmd , callbacks, {silent : false})\\n}\\n\"},\"id\":\"1055\",\"type\":\"CustomJS\"},{\"attributes\":{\"overlay\":{\"id\":\"1070\",\"type\":\"BoxAnnotation\"}},\"id\":\"1032\",\"type\":\"BoxZoomTool\"},{\"attributes\":{\"style\":{\"resize\":\"horizontal\"},\"text\":\"<div id=title_paths_div><h3>Path details</h3></id>\",\"width\":350},\"id\":\"1056\",\"type\":\"Div\"},{\"attributes\":{\"tile_source\":{\"id\":\"1010\",\"type\":\"WMTSTileSource\"}},\"id\":\"1043\",\"type\":\"TileRenderer\"},{\"attributes\":{},\"id\":\"1033\",\"type\":\"SaveTool\"},{\"attributes\":{\"below\":[{\"id\":\"1020\",\"type\":\"LinearAxis\"}],\"center\":[{\"id\":\"1024\",\"type\":\"Grid\"},{\"id\":\"1029\",\"type\":\"Grid\"}],\"left\":[{\"id\":\"1025\",\"type\":\"LinearAxis\"}],\"renderers\":[{\"id\":\"1043\",\"type\":\"TileRenderer\"}],\"title\":{\"id\":\"1065\",\"type\":\"Title\"},\"toolbar\":{\"id\":\"1036\",\"type\":\"Toolbar\"},\"x_range\":{\"id\":\"1012\",\"type\":\"Range1d\"},\"x_scale\":{\"id\":\"1016\",\"type\":\"LinearScale\"},\"y_range\":{\"id\":\"1014\",\"type\":\"Range1d\"},\"y_scale\":{\"id\":\"1018\",\"type\":\"LinearScale\"}},\"id\":\"1011\",\"subtype\":\"Figure\",\"type\":\"Plot\"},{\"attributes\":{\"button_type\":\"success\",\"callback\":null,\"icon\":null,\"js_event_callbacks\":{\"button_click\":[{\"id\":\"1059\",\"type\":\"CustomJS\"}]},\"label\":\"Search\",\"sizing_mode\":\"scale_both\"},\"id\":\"1057\",\"type\":\"Button\"},{\"attributes\":{},\"id\":\"1034\",\"type\":\"ResetTool\"},{\"attributes\":{\"attribution\":\"&copy; <a href=\\\"https://www.openstreetmap.org/copyright\\\">OpenStreetMap</a> contributors,&copy; <a href=\\\"https://cartodb.com/attributions\\\">CartoDB</a>\",\"url\":\"https://tiles.basemaps.cartocdn.com/light_all/{z}/{x}/{y}.png\"},\"id\":\"1010\",\"type\":\"WMTSTileSource\"},{\"attributes\":{},\"id\":\"1035\",\"type\":\"HelpTool\"},{\"attributes\":{\"button_type\":\"success\",\"callback\":null,\"icon\":null,\"js_event_callbacks\":{\"button_click\":[{\"id\":\"1060\",\"type\":\"CustomJS\"}]},\"label\":\"Reset\"},\"id\":\"1058\",\"type\":\"Button\"},{\"attributes\":{\"callback\":null,\"end\":1000000.0,\"start\":880000.0},\"id\":\"1012\",\"type\":\"Range1d\"},{\"attributes\":{\"code\":\"\\n function callback(msg){\\n            console.log(\\\"Python callback returned unexpected message:\\\", msg)\\n        }\\nvar callbacks = {iopub: {output: callback}};\\nconsole.log(cb_obj.value)\\nif (IPython.notebook.kernel !== undefined) {\\n    var kernel = IPython.notebook.kernel;\\n    cmd = \\\"reset('\\\" + cb_obj.value + \\\"')\\\";\\n    kernel.execute(cmd , callbacks, {silent : false})\\n}\\n\"},\"id\":\"1060\",\"type\":\"CustomJS\"},{\"attributes\":{\"callback\":null,\"end\":6010000.0,\"start\":5980000.0},\"id\":\"1014\",\"type\":\"Range1d\"},{\"attributes\":{\"active_drag\":\"auto\",\"active_inspect\":\"auto\",\"active_multi\":null,\"active_scroll\":\"auto\",\"active_tap\":\"auto\",\"tools\":[{\"id\":\"1030\",\"type\":\"PanTool\"},{\"id\":\"1031\",\"type\":\"WheelZoomTool\"},{\"id\":\"1032\",\"type\":\"BoxZoomTool\"},{\"id\":\"1033\",\"type\":\"SaveTool\"},{\"id\":\"1034\",\"type\":\"ResetTool\"},{\"id\":\"1035\",\"type\":\"HelpTool\"}]},\"id\":\"1036\",\"type\":\"Toolbar\"},{\"attributes\":{\"code\":\"\\n function callback(msg){\\n            console.log(\\\"Python callback returned unexpected message:\\\", msg)\\n        }\\nvar callbacks = {iopub: {output: callback}};\\nconsole.log(cb_obj.value)\\nif (IPython.notebook.kernel !== undefined) {\\n    var kernel = IPython.notebook.kernel;\\n    cmd = \\\"find_path('\\\" + cb_obj.value + \\\"')\\\";\\n    kernel.execute(cmd , callbacks, {silent : false})\\n}\\n\"},\"id\":\"1059\",\"type\":\"CustomJS\"},{\"attributes\":{\"children\":[{\"id\":\"1046\",\"type\":\"TextInput\"},{\"id\":\"1048\",\"type\":\"TextInput\"},{\"id\":\"1052\",\"type\":\"AutocompleteInput\"},{\"id\":\"1054\",\"type\":\"AutocompleteInput\"},{\"id\":\"1050\",\"type\":\"Select\"},{\"id\":\"1057\",\"type\":\"Button\"}]},\"id\":\"1061\",\"type\":\"Row\"},{\"attributes\":{},\"id\":\"1016\",\"type\":\"LinearScale\"},{\"attributes\":{},\"id\":\"1018\",\"type\":\"LinearScale\"},{\"attributes\":{\"children\":[{\"id\":\"1011\",\"subtype\":\"Figure\",\"type\":\"Plot\"},{\"id\":\"1056\",\"type\":\"Div\"}],\"width\":950},\"id\":\"1062\",\"type\":\"Row\"},{\"attributes\":{\"formatter\":{\"id\":\"1068\",\"type\":\"BasicTickFormatter\"},\"ticker\":{\"id\":\"1021\",\"type\":\"BasicTicker\"},\"visible\":false},\"id\":\"1020\",\"type\":\"LinearAxis\"},{\"attributes\":{},\"id\":\"1021\",\"type\":\"BasicTicker\"},{\"attributes\":{\"ticker\":{\"id\":\"1021\",\"type\":\"BasicTicker\"}},\"id\":\"1024\",\"type\":\"Grid\"},{\"attributes\":{\"formatter\":{\"id\":\"1066\",\"type\":\"BasicTickFormatter\"},\"ticker\":{\"id\":\"1026\",\"type\":\"BasicTicker\"},\"visible\":false},\"id\":\"1025\",\"type\":\"LinearAxis\"},{\"attributes\":{\"callback\":null,\"js_property_callbacks\":{\"change:value\":[{\"id\":\"1049\",\"type\":\"CustomJS\"}]},\"sizing_mode\":\"scale_both\",\"title\":\"Maximum arrival time:\"},\"id\":\"1048\",\"type\":\"TextInput\"},{\"attributes\":{\"text\":\"\"},\"id\":\"1065\",\"type\":\"Title\"},{\"attributes\":{},\"id\":\"1026\",\"type\":\"BasicTicker\"},{\"attributes\":{\"code\":\"\\n function callback(msg){\\n            console.log(\\\"Python callback returned unexpected message:\\\", msg)\\n        }\\nvar callbacks = {iopub: {output: callback}};\\nconsole.log(cb_obj.value)\\nif (IPython.notebook.kernel !== undefined) {\\n    var kernel = IPython.notebook.kernel;\\n    cmd = \\\"selected_cutoff=('\\\" + cb_obj.value + \\\"')\\\";\\n    kernel.execute(cmd , callbacks, {silent : false})\\n}\\n\"},\"id\":\"1049\",\"type\":\"CustomJS\"},{\"attributes\":{},\"id\":\"1066\",\"type\":\"BasicTickFormatter\"},{\"attributes\":{\"dimension\":1,\"ticker\":{\"id\":\"1026\",\"type\":\"BasicTicker\"}},\"id\":\"1029\",\"type\":\"Grid\"},{\"attributes\":{\"callback\":null,\"js_property_callbacks\":{\"change:value\":[{\"id\":\"1051\",\"type\":\"CustomJS\"}]},\"options\":[[0,\"0%\"],[10,\"10%\"],[20,\"20%\"],[30,\"30%\"],[40,\"40%\"],[50,\"50%\"],[60,\"60%\"],[70,\"70%\"],[80,\"80%\"],[90,\"90%\"],[100,\"100%\"]],\"sizing_mode\":\"scale_both\",\"title\":\"Probability of completion:\"},\"id\":\"1050\",\"type\":\"Select\"},{\"attributes\":{\"code\":\"\\n function callback(msg){\\n            console.log(\\\"Python callback returned unexpected message:\\\", msg)\\n        }\\nvar callbacks = {iopub: {output: callback}};\\nconsole.log(cb_obj.value)\\nif (IPython.notebook.kernel !== undefined) {\\n    var kernel = IPython.notebook.kernel;\\n    cmd = \\\"proba=('\\\" + cb_obj.value + \\\"')\\\";\\n    kernel.execute(cmd , callbacks, {silent : false})\\n}\\n\"},\"id\":\"1051\",\"type\":\"CustomJS\"},{\"attributes\":{},\"id\":\"1068\",\"type\":\"BasicTickFormatter\"},{\"attributes\":{\"code\":\"\\n function callback(msg){\\n            console.log(\\\"Python callback returned unexpected message:\\\", msg)\\n        }\\nvar callbacks = {iopub: {output: callback}};\\nconsole.log(cb_obj.value)\\nif (IPython.notebook.kernel !== undefined) {\\n    var kernel = IPython.notebook.kernel;\\n    cmd = \\\"selected_time=('\\\" + cb_obj.value + \\\"')\\\";\\n    kernel.execute(cmd , callbacks, {silent : false})\\n}\\n\"},\"id\":\"1047\",\"type\":\"CustomJS\"},{\"attributes\":{\"bottom_units\":\"screen\",\"fill_alpha\":{\"value\":0.5},\"fill_color\":{\"value\":\"lightgrey\"},\"left_units\":\"screen\",\"level\":\"overlay\",\"line_alpha\":{\"value\":1.0},\"line_color\":{\"value\":\"black\"},\"line_dash\":[4,4],\"line_width\":{\"value\":2},\"render_mode\":\"css\",\"right_units\":\"screen\",\"top_units\":\"screen\"},\"id\":\"1070\",\"type\":\"BoxAnnotation\"},{\"attributes\":{\"code\":\"\\n function callback(msg){\\n            console.log(\\\"Python callback returned unexpected message:\\\", msg)\\n        }\\nvar callbacks = {iopub: {output: callback}};\\nconsole.log(cb_obj.value)\\nif (IPython.notebook.kernel !== undefined) {\\n    var kernel = IPython.notebook.kernel;\\n    cmd = \\\"selected_src=('\\\" + cb_obj.value + \\\"')\\\";\\n    kernel.execute(cmd , callbacks, {silent : false})\\n}\\n\"},\"id\":\"1053\",\"type\":\"CustomJS\"},{\"attributes\":{\"callback\":null,\"js_property_callbacks\":{\"change:value\":[{\"id\":\"1047\",\"type\":\"CustomJS\"}]},\"sizing_mode\":\"scale_both\",\"title\":\"Departure time:\"},\"id\":\"1046\",\"type\":\"TextInput\"},{\"attributes\":{\"callback\":null,\"completions\":[\"Zimmerberg-Basistunnel\",\"Bonstetten-Wettswil\",\"Waldegg, Birmensdorferstrasse\",\"Z\\u00fcrich, Goldbrunnenplatz\",\"Z\\u00fcrich HB\",\"Z\\u00fcrich Altstetten\",\"Z\\u00fcrich Stadelhofen\",\"Z\\u00fcrich Tiefenbrunnen\",\"Z\\u00fcrich Oerlikon\",\"Z\\u00fcrich Seebach\",\"Z\\u00fcrich Affoltern\",\"Z\\u00fcrich Wollishofen\",\"Z\\u00fcrich Enge\",\"Z\\u00fcrich Wiedikon\",\"Z\\u00fcrich Wipkingen\",\"Z\\u00fcrich Flughafen\",\"Z\\u00fcrich Hardbr\\u00fccke\",\"Z\\u00fcrich Binz\",\"Z\\u00fcrich Friesenberg\",\"Z\\u00fcrich Schweighof\",\"Z\\u00fcrich Triemli\",\"Uitikon Waldegg\",\"Ringlikon\",\"Uetliberg\",\"Z\\u00fcrich Stadelhofen FB\",\"Zollikerberg\",\"Z\\u00fcrich Rehalp\",\"Waltikon\",\"Spital Zollikerberg\",\"Waldburg\",\"Felsenegg\",\"Adliswil (Luftseilbahnstation)\",\"Z\\u00fcrich, R\\u00f6merhof\",\"Z\\u00fcrich, Dolder\",\"Z\\u00fcrich Brunau\",\"Z\\u00fcrich Saalsporthalle\",\"Z\\u00fcrich HB SZU\",\"Wildpark-H\\u00f6fli\",\"Z\\u00fcrich Selnau\",\"Z\\u00fcrich Giessh\\u00fcbel\",\"Z\\u00fcrich Manegg\",\"Z\\u00fcrich Leimbach\",\"Sood-Oberleimbach\",\"Adliswil\",\"Sihlau\",\"Zollikon\",\"K\\u00fcsnacht ZH\",\"Erlenbach ZH\",\"D\\u00fcbendorf\",\"Wallisellen\",\"K\\u00fcsnacht Goldbach\",\"Stettbach\",\"Kilchberg\",\"R\\u00fcschlikon\",\"Thalwil\",\"Dietlikon\",\"Kloten\",\"Kloten Balsberg\",\"Glattbrugg\",\"R\\u00fcmlang\",\"Opfikon\",\"Z\\u00fcrich Landesmuseum (See)\",\"Z\\u00fcrich Storchen\",\"Z\\u00fcrich Enge (See)\",\"Z\\u00fcrich Central (Polybahn)\",\"Z\\u00fcrich Polyterrasse\",\"Regensdorf-Watt\",\"Birmensdorf ZH, Landikon Bach\",\"Birmensdorf ZH, Sternen/WSL\",\"Z\\u00fcrich, Triemli\",\"Z\\u00fcrich B\\u00fcrkliplatz (See)\",\"Z\\u00fcrichhorn (See)\",\"Zollikon (See)\",\"K\\u00fcsnacht ZH (See)\",\"Erlenbach ZH (See)\",\"Thalwil (See)\",\"R\\u00fcschlikon (See)\",\"Kilchberg ZH (See)\",\"Z\\u00fcrich Wollishofen (See)\",\"K\\u00fcsnacht ZH Heslibach\",\"Stallikon, Dorf\",\"Stallikon, Bleiki\",\"Wettswil a.A., Dorf\",\"Wettswil a.A., Heidenchilen\",\"Stallikon, Gamlikon\",\"Stallikon, Sellenb\\u00fcren\",\"Uitikon, Dorf\",\"Waldegg, Post\",\"Langnau a.A.,Schwerzi-Wildpark\",\"Hochschulen\",\"Z\\u00fcrich Seilbahn Rigiblick\",\"Z\\u00fcrich, Rigiblick\",\"Z\\u00fcrich Balgrist\",\"Z\\u00fcrich Hegibachplatz\",\"Z\\u00fcrich Kreuzplatz\",\"Z\\u00fcrich Limmatquai\",\"Langnau am Albis, Dorf\",\"Thalwil, Feldstrasse\",\"Thalwil, M\\u00fchlebachplatz\",\"Thalwil, Zentrum\",\"Thalwil, Bahnhof\",\"Z\\u00fcrich Flughafen, Bahnhof\",\"Kloten, Zum Wilden Mann\",\"Z\\u00fcrich Flughafen, Werft\",\"Kloten, Balsberg Hardacher\",\"Kloten, Kaserne Ost\",\"R\\u00fcmlang, Riedmatt\",\"R\\u00fcmlang, Bahnhof\",\"R\\u00fcmlang, R\\u00fcmelbach\",\"Glattbrugg, Unterriet\",\"Z\\u00fcrich Wiedikon, Bahnhof\",\"Z\\u00fcrich, S\\u00e4dlenweg\",\"Wettswil a.A., B\\u00e4umlis\\u00e4cher\",\"Wettswil a.A., Grund\",\"Ringlikon, Langwis\",\"Stallikon, Aegerten\",\"Bonstetten-Wettswil, Bahnhof\",\"Bonstetten, L\\u00e4rchenhof\",\"Stallikon, Diebis\",\"Uitikon, Roracher\",\"Uitikon, Halde\",\"Waldegg, Katholische Kirche\",\"Ringlikon, Dorf\",\"Ringlikon, G\\u00e4ttern\",\"Uitikon Waldegg, Bahnhof\",\"Kloten, Kirchgasse\",\"Kloten, Rankstrasse\",\"Z\\u00fcrich Tiefenbrunnen, Bahnhof\",\"Zollikon, Seestrasse\",\"Zollikon, Bahnhof\",\"Zollikon, Gemeindehaus\",\"Zollikon, H\\u00f6hestrasse\",\"Zollikon, Allmend\",\"Zollikon, Sch\\u00fctzenstrasse\",\"Zollikon, Rebwiesstrasse\",\"Z\\u00fcrich, Bellevue\",\"Z\\u00fcrich, Elektrowatt\",\"Z\\u00fcrich, Opernhaus\",\"Z\\u00fcrich, Kreuzstrasse\",\"Z\\u00fcrich, Feldeggstrasse\",\"Z\\u00fcrich, H\\u00f6schgasse\",\"Z\\u00fcrich, Fr\\u00f6hlichstrasse\",\"Z\\u00fcrich, Wildbachstrasse\",\"Zollikon, Bahn\\u00fcbergang\",\"Zollikon, Felbenstrasse\",\"Zollikon, Dufourplatz\",\"Zollikon, Beugi\",\"Zollikon, Goldhaldenplatz\",\"K\\u00fcsnacht ZH, B\\u00fchlstrasse\",\"K\\u00fcsnacht ZH, Goldbacherstrasse\",\"K\\u00fcsnacht ZH, Boglerenstrasse\",\"K\\u00fcsnacht ZH, Schiedhaldenstr.\",\"K\\u00fcsnacht ZH, Schiedhaldensteig\",\"K\\u00fcsnacht ZH, Sch\\u00fcbel\",\"Itschnach, Dorf\",\"Itschnach, Fallacher\",\"K\\u00fcsnacht ZH, Oberwacht\",\"K\\u00fcsnacht ZH, Ob. Heslibachstr.\",\"K\\u00fcsnacht ZH, Bergstrasse\",\"K\\u00fcsnacht ZH, Himmelistrasse\",\"K\\u00fcsnacht ZH, Hesligenstrasse\",\"K\\u00fcsnacht ZH, R\\u00e4nkestrasse\",\"K\\u00fcsnacht ZH, Allmend\",\"K\\u00fcsnacht ZH, Bahnhof\",\"Zumikon, G\\u00f6ssikon\",\"Zumikon, Waltikon\",\"Z\\u00fcrich, Meierhofplatz\",\"Z\\u00fcrich, Heizenholz\",\"Z\\u00fcrich, Gr\\u00fcnwald\",\"Regensdorf, Lettenhau\",\"Regensdorf, Obstgarten\",\"Regensdorf, Ostring\",\"Watt, Geerenweg\",\"Watt, Dorf\",\"Watt, Schulhaus\",\"Z\\u00fcrich, Zehntenhausplatz\",\"Z\\u00fcrich, Hungerbergstrasse\",\"Regensdorf, Chr\\u00fcz\\u00e4cher\",\"Wettswil a.A., Sch\\u00fcrli\",\"Wettswil a.A., Beerimoos\",\"Wettswil a.A., Dettenb\\u00fchl\",\"Wettswil a.A., Chilenholzstr.\",\"Wettswil a.A., Oberhusen\",\"Wettswil a.A., Egg\\u00e4cher\",\"Wettswil a.A., Heiss\\u00e4cherstr.\",\"Wettswil a.A., Strumberg\\u00e4cher\",\"Wettswil a.A., Rehweid\",\"Wettswil a.A., Lang\\u00e4cher\",\"Wettswil a.A., Moosstrasse\",\"Z\\u00fcrich Flughafen, OPC\",\"Kloten, Bramen\",\"Kloten, Lindenstrasse\",\"Kloten, M\\u00fchle\",\"Kloten, S\\u00e4ntisstrasse\",\"Glattbrugg, Riethofstrasse\",\"R\\u00fcmlang, Rumilobr\\u00fccke\",\"Z\\u00fcrich Oerlikon, Bahnhof\",\"Z\\u00fcrich, Escher-Wyss-Platz\",\"Opfikon, Schulstrasse\",\"Z\\u00fcrich, Schaufelbergerstrasse\",\"Stallikon, Loomatt\",\"Wettswil a.A., Schachenbach\",\"Stallikon, Langfuren\",\"Waldegg, Leuen\",\"Birmensdorf ZH, Landikon Dorf\",\"Z\\u00fcrich, Rote Fabrik\",\"Z\\u00fcrich, Bahnhofplatz/HB\",\"Z\\u00fcrich, Bahnhofquai/HB\",\"Kloten, Bahnhof\",\"Wallisellen, Glatt (Bus)\",\"Z\\u00fcrich, Altried\",\"D\\u00fcbendorf, Bahnhof\",\"Glattbrugg, Glatthof\",\"Wallisellen, Bahnhof\",\"Kloten Balsberg, Bahnhof\",\"Erlenbach ZH, Alterswohnheim\",\"Erlenbach ZH, Bahnhof\",\"Erlenbach ZH, Bahnhofstrasse\",\"Erlenbach ZH, Im Loo\",\"Z\\u00fcrich, Central\",\"Dietlikon, Bahnhof\",\"Z\\u00fcrich Flughafen, Fracht\",\"Kloten, Ackerstrasse\",\"Kloten, L\\u00e4gernstrasse\",\"Kloten, Neubrunnenstrasse\",\"Wallisellen, Bodenackerstrasse\",\"Wallisellen, Frohheimstrasse\",\"Wallisellen, Kaserne\",\"Wallisellen, Steinacker\",\"Z\\u00fcrich, Farbhof\",\"Adliswil, Badstrasse\",\"Adliswil, Bahnhof\",\"Adliswil, Baumgartenweg\",\"Adliswil, Bodenacker\",\"Adliswil, B\\u00fcchel\",\"Adliswil, Eichenweg\",\"Adliswil, Feldblumenstrasse\",\"Adliswil, Friedhof\",\"Adliswil, Baldernstrasse\",\"Adliswil, Gr\\u00fct\",\"Adliswil, Hofackerstrasse\",\"Adliswil, Krone\",\"Adliswil, Landolt-Junker-Str.\",\"Adliswil, Ahornweg\",\"Adliswil, Moos\",\"Adliswil, Poststrasse\",\"Adliswil, Zopf\",\"Adliswil, Rifertstrasse\",\"Adliswil, R\\u00fctistrasse/Wacht\",\"Adliswil, Schulhaus Kopfholz\",\"Adliswil, Tiefacker\",\"Adliswil, Tobelhof\",\"Adliswil, Wanneten-/Haldenstr.\",\"Binz bei Maur, Fridlimatt\",\"D\\u00fcbendorf, Sport Heerensch\\u00fcrli\",\"Dietlikon, Aegert\",\"Dietlikon, Dornenstrasse\",\"Dietlikon, D\\u00fcbendorferstrasse\",\"Dietlikon, H\\u00f6rnligraben\",\"Dietlikon, Industriestrasse\",\"D\\u00fcbendorf, Alterszentrum\",\"D\\u00fcbendorf, Bahnhof Nord\",\"D\\u00fcbendorf, Bettlistrasse\",\"D\\u00fcbendorf, Breitibach\",\"D\\u00fcbendorf, Chriesmatt\",\"D\\u00fcbendorf, City Center\",\"D\\u00fcbendorf, Claridenstrasse\",\"D\\u00fcbendorf, EMPA\",\"D\\u00fcbendorf, Giessen\",\"D\\u00fcbendorf, Gr\\u00fczenstrasse\",\"D\\u00fcbendorf, Hoffnung\",\"D\\u00fcbendorf, H\\u00f6gler\",\"D\\u00fcbendorf, Im Grund\",\"D\\u00fcbendorf, K\\u00e4mmaten\",\"D\\u00fcbendorf, Kirche Wil\",\"D\\u00fcbendorf, Kreuzb\\u00fchl\",\"D\\u00fcbendorf, Kunsteisbahn\",\"D\\u00fcbendorf, Lindenplatz\",\"D\\u00fcbendorf, Meiershofstrasse\",\"D\\u00fcbendorf, Memphis\",\"Wallisellen, Neugut\",\"D\\u00fcbendorf, Neugut S\\u00fcd\",\"D\\u00fcbendorf, Post\",\"D\\u00fcbendorf, Ringstrasse\",\"D\\u00fcbendorf, Ringwiesen\",\"D\\u00fcbendorf, Schwimmbad\",\"D\\u00fcbendorf, Sonnental\",\"D\\u00fcbendorf, Stadthaus\",\"D\\u00fcbendorf, Unterdorf\",\"D\\u00fcbendorf, Wasserfurren\",\"D\\u00fcbendorf, Zelglistrasse\",\"D\\u00fcbendorf, Zwinggarten\",\"Glattbrugg, Bahnhof\",\"Glattbrugg, Frohb\\u00fchlstrasse\",\"Glattbrugg, Giebeleichstrasse\",\"Glattbrugg, Halden\",\"Glattbrugg, L\\u00e4ttenwiesen\",\"Glattbrugg, Lindberghplatz\",\"Glattbrugg, Mode Center TMC\",\"Glattbrugg, Oberhusen\",\"Glattbrugg, Post\",\"Glattbrugg, Zentrum\",\"Glattbrugg, Zil\",\"Glattpark, Chavez-Allee\",\"Glattpark, Lindbergh-Allee\",\"Gockhausen, Ursprungstrasse\",\"Itschnach, Rebweg\",\"Itschnach, T\\u00e4germoos\",\"Kilchberg ZH, Altersheim\",\"Kilchberg ZH, Auf Brunnen\",\"Kilchberg ZH, B\\u00e4chlerstrasse\",\"Kilchberg ZH, Bahnhof\",\"Kilchberg ZH, Bendlikon\",\"Kilchberg ZH, Gottlieb-Binder\",\"Kilchberg ZH, Hornhaldenstr.\",\"Kilchberg ZH, Kirche\",\"Kilchberg ZH, Spital\",\"Kilchberg ZH, Kreuzstrasse\",\"Kilchberg ZH, Lindt & Spr\\u00fcngli\",\"Kilchberg ZH, Mythenstrasse\",\"Kilchberg ZH, Paradiessteig\",\"Kilchberg ZH, Paradiesstrasse\",\"Kilchberg ZH, Sanatorium\",\"Kilchberg ZH, Schlimbergstr.\",\"Kilchberg ZH, Schooren\",\"Kilchberg ZH, Schoorenstrasse\",\"Kilchberg ZH,Schulhaus Dorfstr\",\"Kilchberg ZH, Schwelle\",\"Kilchberg ZH, Stockengut\",\"Kilchberg ZH, Weinbergstrasse\",\"Kloten, Breitistrasse/Bahnhof\",\"Kloten, Buchhalden\",\"Kloten, Obstgartenstrasse\",\"Kloten, Schluefweg\",\"Kloten, Schulstrasse\",\"Kloten, Stadthaus\",\"Kloten, Wallisellenstrasse\",\"K\\u00fcsnacht ZH, Gartenstrasse\",\"K\\u00fcsnacht ZH, Hallenbad\",\"K\\u00fcsnacht ZH, Oberfeld\",\"K\\u00fcsnacht ZH, Reform. Kirche\",\"K\\u00fcsnacht ZH, Zentrum\",\"Oberengstringen, Eggb\\u00fchl\",\"Oberengstringen, Lanzrain\",\"Oberengstringen, Paradies\",\"Oberengstringen, Zentrum\",\"Opfikon, Aublick\",\"Opfikon, Austrasse\",\"Opfikon, Bahnhof\",\"Opfikon, Bubenholz\",\"Opfikon, Dorf\",\"Opfikon, Fernsicht\",\"Opfikon, Gr\\u00e4tzli\",\"Opfikon, Grossacker\",\"Opfikon, Neuwiesen\",\"Opfikon, Vreniker\",\"Pfaffhausen, Feldhof\",\"Pfaffhausen, Pfaffenstein\",\"Pfaffhausen, S\\u00e4ngglen\",\"Regensdorf, Zentrum Ost\",\"R\\u00fcmlang, B\\u00e4uler\",\"R\\u00fcmlang, Letten\",\"R\\u00fcmlang, Oberdorf\",\"R\\u00fcmlang, Gemeindehaus\",\"R\\u00fcmlang, Riedmattstrasse\",\"R\\u00fcschlikon, Bahnhof\",\"R\\u00fcschlikon, Belvoir\",\"R\\u00fcschlikon, Bodengasse\",\"R\\u00fcschlikon, Eggrain\",\"R\\u00fcschlikon, Langhaldenstrasse\",\"R\\u00fcschlikon, Loorain\",\"R\\u00fcschlikon, Moosstrasse\",\"R\\u00fcschlikon, Park im Gr\\u00fcene\",\"R\\u00fcschlikon, Rebsteig\",\"R\\u00fcschlikon, S\\u00e4umerstrasse\",\"R\\u00fcschlikon, Schlossstrasse\",\"R\\u00fcschlikon, Weidstrasse\",\"Schlieren, Gasometerbr\\u00fccke\",\"Schlieren, Industrie Gaswerk\",\"Schlieren, M\\u00fclligen\",\"Schlieren, R\\u00fctistrasse\",\"Schlieren, Wagonsfabrik\",\"Thalwil, Aegertli\",\"Thalwil, Archstrasse\",\"Thalwil, In Reben\",\"Thalwil, Park im Gr\\u00fcene\",\"Thalwil, Pilgerweg\",\"Thalwil, Post\",\"Thalwil, Rudishaldenstrasse\",\"Thalwil, Seehaldenstrasse\",\"Thalwil, Trotte\",\"Regensdorf-Watt, Bahnhof\",\"Waldburg, Station\",\"Wallisellen, Alterszentrum\",\"Wallisellen, Belair\",\"Wallisellen, Blumenweg\",\"Wallisellen, B\\u00fctzacker\",\"Wallisellen, Florastrasse\",\"Wallisellen, Furtbach\",\"Wallisellen, Gemeindehaus\",\"Wallisellen, Guyer-Weg\",\"Wallisellen, Hallenbad\",\"Wallisellen, Herti\",\"Wallisellen, Ifang\",\"Wallisellen, Lindenplatz\",\"Wallisellen, Riedenerstrasse\",\"Wallisellen, Rosenberg\",\"Wallisellen, Sch\\u00e4fligraben\",\"Wallisellen, Spitzacker\",\"Wallisellen, Sportzentrum\",\"Wallisellen, Zentrum\",\"Wallisellen, Zielacker\",\"Watt, Br\\u00fcnigstrasse\",\"Zollikerb., Lang\\u00e4gerten/Spital\",\"Zollikerberg, Hasenbart\",\"Zollikerberg, Oberhueb\",\"Zollikerberg, Resirain\",\"Zollikerberg, Sennhof\",\"Zollikerberg, Station\",\"Zollikerberg, Trichtenhauserm.\",\"Z\\u00fcrich Flughafen, REGA\",\"Z\\u00fcrich Flughafen, Werkhof\",\"Z\\u00fcrich, Aargauerstrasse\",\"Z\\u00fcrich, Albisg\\u00fctli\",\"Z\\u00fcrich, Albisrank\",\"Z\\u00fcrich, Albisrieden\",\"Z\\u00fcrich, Albisriederd\\u00f6rfli\",\"Z\\u00fcrich, Albisriederplatz\",\"Z\\u00fcrich, Alte Trotte\",\"Z\\u00fcrich, Altenhofstrasse\",\"Z\\u00fcrich, Althoos\",\"Z\\u00fcrich, Am B\\u00f6rtli\",\"Z\\u00fcrich, Am Suteracher\",\"Z\\u00fcrich, Appenzellerstrasse\",\"Z\\u00fcrich, Aspholz\",\"Z\\u00fcrich, Aubr\\u00fccke\",\"Z\\u00fcrich, Ausserdorfstrasse\",\"Z\\u00fcrich, Auzelg\",\"Z\\u00fcrich, Auzelg Ost\",\"Z\\u00fcrich, Bachmattstrasse\",\"Z\\u00fcrich, B\\u00e4ckeranlage\",\"Z\\u00fcrich, Bad Allenmoos\",\"Z\\u00fcrich Affoltern, Bahnhof\",\"Z\\u00fcrich Affoltern, Bahnhof S\\u00fcd\",\"Z\\u00fcrich Altstetten, Bahnhof\",\"Z\\u00fcrich Altstetten, Bahnhof N\",\"Z\\u00fcrich Enge, Bahnhof\",\"Z\\u00fcrich Enge, Bahnhof/Bederstr.\",\"Z\\u00fcrich Hardbr\\u00fccke, Bahnhof\",\"Z\\u00fcrich Leimbach, Bahnhof\",\"Z\\u00fcrich Oerlikon, Bahnhof Nord\",\"Z\\u00fcrich Oerlikon, Bahnhof Ost\",\"Z\\u00fcrich Selnau, Bahnhof\",\"Stettbach, Bahnhof\",\"Z\\u00fcrich Wipkingen, Bahnhof\",\"Z\\u00fcrich, Bahnhofstrasse/HB\",\"Z\\u00fcrich, B\\u00e4ndliweg\",\"Z\\u00fcrich, Baslerstrasse\",\"Z\\u00fcrich, Beckenhof\",\"Z\\u00fcrich, Berghaldenstrasse\",\"Z\\u00fcrich, Berninaplatz\",\"Z\\u00fcrich, Bernoulli-H\\u00e4user\",\"Z\\u00fcrich, Bertastrasse\",\"Z\\u00fcrich, Berufswahlschule\",\"Z\\u00fcrich, Besenrainstrasse\",\"Z\\u00fcrich, Bethanien\",\"Z\\u00fcrich, Bezirksgeb\\u00e4ude\",\"Z\\u00fcrich Wollishofen, Bhf (Bus)\",\"Z\\u00fcrich Wollishofen, Bhf (Tram)\",\"Z\\u00fcrich, Billoweg\",\"Z\\u00fcrich, Grubenstrasse\",\"Z\\u00fcrich, Binz Center\",\"Z\\u00fcrich, Birch-/Glatttalstrasse\",\"Z\\u00fcrich, Birchd\\u00f6rfli\",\"Z\\u00fcrich, Bircher-Benner\",\"Z\\u00fcrich, Birchstrasse\",\"Z\\u00fcrich, Bleulerstrasse\",\"Z\\u00fcrich, Blumenfeldstrasse\",\"Z\\u00fcrich, Bocklerstrasse\",\"Z\\u00fcrich, Bollingerweg\",\"Z\\u00fcrich, B\\u00f6rsenstrasse\",\"Z\\u00fcrich, Botanischer Garten\",\"Z\\u00fcrich, Brandschenkestrasse\",\"Z\\u00fcrich, Bristenstrasse\",\"Z\\u00fcrich, Brunau/Mutschellenstr.\",\"Z\\u00fcrich, Brunaustrasse\",\"Z\\u00fcrich, Bucheggplatz\",\"Z\\u00fcrich, Buchholz\",\"Z\\u00fcrich, Buhnstrasse\",\"Z\\u00fcrich, Burgwies\",\"Z\\u00fcrich, B\\u00fcrkliplatz\",\"Z\\u00fcrich, Butzenstrasse\",\"Z\\u00fcrich, Carl-Spitteler-Strasse\",\"Z\\u00fcrich, Chaletweg\",\"Z\\u00fcrich, Chinagarten\",\"Z\\u00fcrich, Dammweg\",\"Z\\u00fcrich, Dangelstrasse\",\"Z\\u00fcrich, Dorflinde\",\"Z\\u00fcrich, Dreispitz\",\"Z\\u00fcrich, Dreiwiesen\",\"Z\\u00fcrich, Drusbergstrasse\",\"Z\\u00fcrich, Dunkelh\\u00f6lzli\",\"Z\\u00fcrich, Einfangstrasse\",\"Z\\u00fcrich, Englischviertelstrasse\",\"Z\\u00fcrich, EPI-Klinik\",\"Z\\u00fcrich, Eschergutweg\",\"Z\\u00fcrich, ETH H\\u00f6nggerberg\",\"Z\\u00fcrich, ETH/Universit\\u00e4tsspital\",\"Z\\u00fcrich, Ettenfeld\",\"Z\\u00fcrich, Fellenbergstrasse\",\"Z\\u00fcrich, Felsenrainstrasse\",\"Z\\u00fcrich, Fernsehstudio\",\"Z\\u00fcrich, Feusisbergli\",\"Z\\u00fcrich, Fischerweg\",\"Z\\u00fcrich, Flobotstrasse\",\"Z\\u00fcrich, Fl\\u00fchgasse\",\"Z\\u00fcrich, Flurstrasse\",\"Z\\u00fcrich, F\\u00f6rrlibuckstrasse\",\"Z\\u00fcrich, Frankental\",\"Z\\u00fcrich, Freiestrasse\",\"Z\\u00fcrich, Freihofstrasse\",\"Z\\u00fcrich, Friedackerstrasse\",\"Z\\u00fcrich, Friedhof Eichb\\u00fchl\",\"Z\\u00fcrich, Friedhof Enzenb\\u00fchl\",\"Z\\u00fcrich, Friedhof H\\u00f6nggerberg\",\"Z\\u00fcrich, Friedhof Schwandenholz\",\"Z\\u00fcrich, Friedhof Sihlfeld\",\"Z\\u00fcrich, Friedhof Uetliberg\",\"Z\\u00fcrich, Friedhof Witikon\",\"Z\\u00fcrich, Friedrichstrasse\",\"Z\\u00fcrich, Friesenberg\",\"Z\\u00fcrich, Friesenberghalde\",\"Z\\u00fcrich, Friesenbergstrasse\",\"Z\\u00fcrich, Frohburg\",\"Z\\u00fcrich, Fronwald\",\"Z\\u00fcrich, Frymannstrasse\",\"Z\\u00fcrich, Geeringstrasse\",\"Z\\u00fcrich, Germaniastrasse\",\"Z\\u00fcrich, Giblenstrasse\",\"Z\\u00fcrich, Glattwiesen\",\"Z\\u00fcrich, Glaubtenstrasse\",\"Z\\u00fcrich, Glaubtenstrasse S\\u00fcd\",\"Z\\u00fcrich, Glockenacker\",\"Z\\u00fcrich, Goldackerweg\",\"Z\\u00fcrich, Goldauerstrasse\",\"Z\\u00fcrich, Grimselstrasse\",\"Z\\u00fcrich, Gr\\u00fcnaustrasse\",\"Z\\u00fcrich, Guggachstrasse\",\"Z\\u00fcrich, G\\u00fcterbahnhof\",\"Z\\u00fcrich, Gutstrasse\",\"Z\\u00fcrich, Hadlaubstrasse\",\"Z\\u00fcrich, Hagenholz\",\"Z\\u00fcrich, Haldenbach\",\"Z\\u00fcrich, Haldenegg\",\"Z\\u00fcrich, Hallenbad Oerlikon\",\"Z\\u00fcrich, Hardhof\",\"Z\\u00fcrich, Hardplatz\",\"Z\\u00fcrich, Hardturm\",\"Z\\u00fcrich, Hedwigsteig\",\"Z\\u00fcrich, Heerenwiesen\",\"Z\\u00fcrich, Hegianwandweg\",\"Z\\u00fcrich, Helmhaus\",\"Z\\u00fcrich, Helvetiaplatz\",\"Z\\u00fcrich, Herbstweg\",\"Z\\u00fcrich, Herdernstrasse\",\"Z\\u00fcrich, Hertensteinstrasse\",\"Z\\u00fcrich, Herzogenm\\u00fchlestrasse\",\"Z\\u00fcrich, Heubeeriweg\",\"Z\\u00fcrich, Heuried\",\"Z\\u00fcrich, Himmeri\",\"Z\\u00fcrich, Hinterbergstrasse\",\"Z\\u00fcrich, Hirschwiesenstrasse\",\"Z\\u00fcrich, Hirzenbach\",\"Z\\u00fcrich, H\\u00f6fliweg\",\"Z\\u00fcrich, Hofstrasse\",\"Z\\u00fcrich, Hohenklingensteig\",\"Z\\u00fcrich, H\\u00f6lderlinsteig\",\"Z\\u00fcrich, H\\u00f6lderlinstrasse\",\"Z\\u00fcrich, Holzerhurd\",\"Z\\u00fcrich, H\\u00f6nggerberg\",\"Z\\u00fcrich, Hottingerplatz\",\"Z\\u00fcrich, Hubertus\",\"Z\\u00fcrich, H\\u00fcgelstrasse\",\"Z\\u00fcrich, H\\u00fcrlimannplatz\",\"Z\\u00fcrich, H\\u00fcrstholz\",\"Z\\u00fcrich, Im Ebnet\",\"Z\\u00fcrich, Im Gut\",\"Z\\u00fcrich, Im Hagacker\",\"Z\\u00fcrich, Im H\\u00fcsli\",\"Z\\u00fcrich, Im Kl\\u00f6sterli\",\"Z\\u00fcrich, Im Walder\",\"Z\\u00fcrich, Im Wingert\",\"Z\\u00fcrich, In der Ey\",\"Z\\u00fcrich, Juchhof\",\"Z\\u00fcrich, Jugendherberge\",\"Z\\u00fcrich, Kalchb\\u00fchlweg\",\"Z\\u00fcrich,Kalkbreite/Bhf.Wiedikon\",\"Z\\u00fcrich, Kanonengasse\",\"Z\\u00fcrich, Kantonsschule\",\"Z\\u00fcrich, Kapfstrasse\",\"Z\\u00fcrich, Kappeli\",\"Z\\u00fcrich, Kappenb\\u00fchlweg\",\"Z\\u00fcrich, K\\u00e4shaldenstrasse\",\"Z\\u00fcrich, Genossenschaftsstrasse\",\"Z\\u00fcrich, Kempfhofsteig\",\"Z\\u00fcrich, Kernstrasse\",\"Z\\u00fcrich, Kienastenwies\",\"Z\\u00fcrich, Kinkelstrasse\",\"Z\\u00fcrich, Kirche Fluntern\",\"Z\\u00fcrich, Klosbach\",\"Z\\u00fcrich, Klusplatz\",\"Z\\u00fcrich, K\\u00f6schenr\\u00fcti\",\"Z\\u00fcrich, Krematorium Nordheim\",\"Z\\u00fcrich, Altes Krematorium\",\"Z\\u00fcrich, Kronenstrasse\",\"Z\\u00fcrich, Kr\\u00f6nleinstrasse\",\"Z\\u00fcrich, Kunsthaus\",\"Z\\u00fcrich, L\\u00e4gernstrasse\",\"Z\\u00fcrich, Landiwiese\",\"Z\\u00fcrich, Langensteinenstrasse\",\"Z\\u00fcrich, Langgr\\u00fctstrasse\",\"Z\\u00fcrich, Langmauerstrasse\",\"Z\\u00fcrich, Laubegg\",\"Z\\u00fcrich, Laubiweg\",\"Z\\u00fcrich, Lehenstrasse\",\"Z\\u00fcrich, Leimgr\\u00fcbelstrasse\",\"Z\\u00fcrich, Lerchenhalde\",\"Z\\u00fcrich, Lerchenrain\",\"Z\\u00fcrich, Lettenstrasse\",\"Z\\u00fcrich, Letzigrund\",\"Z\\u00fcrich, Letzipark\",\"Z\\u00fcrich, Letzipark West\",\"Z\\u00fcrich, Letzistrasse\",\"Z\\u00fcrich, Leutschenbach\",\"Z\\u00fcrich, Limmatplatz\",\"Z\\u00fcrich, Lindenplatz\",\"Z\\u00fcrich, Lochergut\",\"Z\\u00fcrich, Loogarten\",\"Z\\u00fcrich, Loorenstrasse\",\"Z\\u00fcrich, L\\u00f6wenplatz\",\"Z\\u00fcrich, Luchswiesen\",\"Z\\u00fcrich, Luegisland\",\"Z\\u00fcrich, Luggwegstrasse\",\"Z\\u00fcrich, Maienweg\",\"Z\\u00fcrich, Maillartstrasse\",\"Z\\u00fcrich, Manegg\",\"Z\\u00fcrich, Manesseplatz\",\"Z\\u00fcrich, Marbachweg\",\"Z\\u00fcrich, Mattenhof\",\"Z\\u00fcrich, Max-Bill-Platz\",\"Z\\u00fcrich, Messe/Hallenstadion\",\"Z\\u00fcrich, Micafil\",\"Z\\u00fcrich, Michelstrasse\",\"Z\\u00fcrich, Milchbuck\",\"Z\\u00fcrich, Milit\\u00e4r-/Langstrasse\",\"Z\\u00fcrich, Mittelleimbach\",\"Z\\u00fcrich, Morgental\",\"Z\\u00fcrich, M\\u00f6tteliweg\",\"Z\\u00fcrich, M\\u00fchlacker\",\"Z\\u00fcrich, Museum f\\u00fcr Gestaltung\",\"Z\\u00fcrich, Museum Rietberg\",\"Z\\u00fcrich, Neeserweg\",\"Z\\u00fcrich, Neuaffoltern\",\"Z\\u00fcrich, Neub\\u00fchl\",\"Z\\u00fcrich, Neumarkt\",\"Z\\u00fcrich, Neunbrunnen\",\"Z\\u00fcrich, Nordheimstrasse\",\"Z\\u00fcrich, Nordstrasse\",\"Z\\u00fcrich, N\\u00fcrenbergstrasse\",\"Z\\u00fcrich, Oberwiesenstrasse\",\"Z\\u00fcrich, Oerlikerhus\",\"Z\\u00fcrich, Okenstrasse\",\"Z\\u00fcrich, Orionstrasse\",\"Z\\u00fcrich, Ottikerstrasse\",\"Z\\u00fcrich, Paradeplatz\",\"Z\\u00fcrich, Stodolastrasse\",\"Z\\u00fcrich, Pflegezentr. K\\u00e4ferberg\",\"Z\\u00fcrich, Platte\",\"Z\\u00fcrich, Post Wollishofen\",\"Z\\u00fcrich, Probstei\",\"Z\\u00fcrich, Quellenstrasse\",\"Z\\u00fcrich, Radiostudio\",\"Z\\u00fcrich, R\\u00e4ffelstrasse\",\"Z\\u00fcrich, Rathaus\",\"Z\\u00fcrich, Rautihalde\",\"Z\\u00fcrich, Rautistrasse\",\"Z\\u00fcrich, Rebbergsteig\",\"Z\\u00fcrich, Regensbergbr\\u00fccke\",\"Z\\u00fcrich, Rehalp\",\"Z\\u00fcrich, Rennweg\",\"Z\\u00fcrich, Rentenanstalt\",\"Z\\u00fcrich, Riedbach\",\"Z\\u00fcrich, Riedgraben\",\"Z\\u00fcrich, Riedhofstrasse\",\"Z\\u00fcrich, R\\u00f6ntgenstrasse\",\"Z\\u00fcrich, Rosengartenstrasse\",\"Z\\u00fcrich, R\\u00f6slistrasse\",\"Z\\u00fcrich, Roswiesen\",\"Z\\u00fcrich, Rotbuchstrasse\",\"Z\\u00fcrich, Rudolf-Brun-Br\\u00fccke\",\"Z\\u00fcrich, R\\u00fctihof\",\"Z\\u00fcrich, Saalsporthalle\",\"Z\\u00fcrich, Saatlenstrasse\",\"Z\\u00fcrich, Sackzelg\",\"Z\\u00fcrich, Salersteig\",\"Z\\u00fcrich, Salzweg\",\"Z\\u00fcrich, SBB-Werkst\\u00e4tte\",\"Z\\u00fcrich, Schaffhauserplatz\",\"Z\\u00fcrich, Sch\\u00e4ppiweg\",\"Z\\u00fcrich, Schauenberg\",\"Z\\u00fcrich, Scheuchzerstrasse\",\"Z\\u00fcrich, Schlyfi\",\"Z\\u00fcrich, Schmiede Wiedikon\",\"Z\\u00fcrich, Sch\\u00f6nauring\",\"Z\\u00fcrich, Sch\\u00f6rlistrasse\",\"Z\\u00fcrich, Schulhaus Altweg\",\"Z\\u00fcrich, Schulhaus Buchlern\",\"Z\\u00fcrich, Schumacherweg\",\"Z\\u00fcrich, Sch\\u00fcrgistrasse\",\"Z\\u00fcrich, Sch\\u00fctzenhaus H\\u00f6ngg\",\"Z\\u00fcrich, Schwamendingerplatz\",\"Z\\u00fcrich, Schwandenholz\",\"Z\\u00fcrich, Schweighof\",\"Z\\u00fcrich, Schweizer R\\u00fcck\",\"Z\\u00fcrich, Schwert\",\"Z\\u00fcrich, Seebach\",\"Z\\u00fcrich, Seebacherplatz\",\"Z\\u00fcrich, Seerose\",\"Z\\u00fcrich, Segantinistrasse\",\"Z\\u00fcrich, Segeten\",\"Z\\u00fcrich, Seidelhof\",\"Z\\u00fcrich, Seilbahn Rigiblick\",\"Z\\u00fcrich, Siemens\",\"Z\\u00fcrich, Signaustrasse\",\"Z\\u00fcrich, Sihlcity\",\"Z\\u00fcrich, Sihlcity Nord\",\"Z\\u00fcrich, Sihlpost/HB\",\"Z\\u00fcrich, Sihlquai/HB\",\"Z\\u00fcrich, Sihlstrasse\",\"Z\\u00fcrich, Sihlweidstrasse\",\"Z\\u00fcrich, Singlistrasse\",\"Z\\u00fcrich, Solidapark\",\"Z\\u00fcrich, Sonneggstrasse\",\"Z\\u00fcrich, Sportweg\",\"Z\\u00fcrich, Sprecherstrasse\",\"Z\\u00fcrich, Spyriplatz\",\"Z\\u00fcrich, Spyristeig\",\"Z\\u00fcrich, Stadtgrenze\",\"Z\\u00fcrich, Stampfenbachplatz\",\"Z\\u00fcrich, Staudenb\\u00fchl\",\"Z\\u00fcrich, Stauffacher\",\"Z\\u00fcrich, Sternen Oerlikon\",\"Z\\u00fcrich, Stierenried\",\"Z\\u00fcrich, Stockerstrasse\",\"Z\\u00fcrich, Strassenverkehrsamt\",\"Z\\u00fcrich, Strickhof\",\"Z\\u00fcrich, Sukkulentensammlung\",\"Z\\u00fcrich, Sunnau\",\"Z\\u00fcrich, Susenbergstrasse\",\"Z\\u00fcrich, Talwiesenstrasse\",\"Z\\u00fcrich, Technopark\",\"Z\\u00fcrich, Thujastrasse\",\"Z\\u00fcrich, Tierspital\",\"Z\\u00fcrich, Titlisstrasse\",\"Z\\u00fcrich, Tobelhof\",\"Z\\u00fcrich, Toblerplatz\",\"Z\\u00fcrich, Toni-Areal\",\"Z\\u00fcrich, Trichtenhausenfussweg\",\"Z\\u00fcrich, Trichtisal\",\"Z\\u00fcrich, Triemlispital\",\"Z\\u00fcrich, T\\u00fcffenwies\",\"Z\\u00fcrich, Tulpenstrasse\",\"Z\\u00fcrich, Tunnelstrasse\",\"Z\\u00fcrich, Uetlihof\",\"Z\\u00fcrich, Universit\\u00e4t Irchel\",\"Z\\u00fcrich, Unteraffoltern\",\"Z\\u00fcrich, Untermoosstrasse\",\"Z\\u00fcrich, Verenastrasse\",\"Z\\u00fcrich, Vogelsangstrasse\",\"Z\\u00fcrich, Voltastrasse\",\"Z\\u00fcrich, Vulkanstrasse\",\"Z\\u00fcrich, Waffenplatz-/Bederstr.\",\"Z\\u00fcrich, Waffenplatzstrasse\",\"Z\\u00fcrich, Waidbadstrasse\",\"Z\\u00fcrich, Waidfussweg\",\"Z\\u00fcrich, Waidhof\",\"Z\\u00fcrich, Waidspital\",\"Z\\u00fcrich, Waldgarten\",\"Z\\u00fcrich, Waldhaus Dolder\",\"Z\\u00fcrich, Wartau\",\"Z\\u00fcrich, Waserstrasse\",\"Z\\u00fcrich, Weihersteig\",\"Z\\u00fcrich, Werd\",\"Z\\u00fcrich, Werdh\\u00f6lzli\",\"Z\\u00fcrich, Wetlistrasse\",\"Z\\u00fcrich, Widmerstrasse\",\"Z\\u00fcrich, Wieslergasse\",\"Z\\u00fcrich, Wiesliacher\",\"Z\\u00fcrich, Winkelriedstrasse\",\"Z\\u00fcrich, Winzerhalde\",\"Z\\u00fcrich, Winzerstrasse\",\"Z\\u00fcrich, Winzerstrasse S\\u00fcd\",\"Z\\u00fcrich, Wipkingerplatz\",\"Z\\u00fcrich, Witikon Zentrum\",\"Z\\u00fcrich, Wollishofen\",\"Z\\u00fcrich, Wonnebergstrasse\",\"Z\\u00fcrich, Zielweg\",\"Z\\u00fcrich, Zoo\",\"Z\\u00fcrich, Zoo/Forrenweid\",\"Z\\u00fcrich, Z\\u00fcrichbergstrasse\",\"Z\\u00fcrich, Zweiackerstrasse\",\"Z\\u00fcrich, Zwielplatz\",\"Z\\u00fcrich, Zwinglihaus\",\"Z\\u00fcrich, Zypressenstrasse\",\"Z\\u00fcrich, Binz\",\"Binz bei Maur, Post\",\"Glattpark, Glattpark\",\"Gockhausen, Dorf\",\"Pfaffhausen, M\\u00fcseren\",\"Z\\u00fcrich, W\\u00fcrzgraben\",\"Zollikerberg, Spital\",\"Z\\u00fcrich Flughafen, Im Rohr\",\"Glattpark, Wright-Strasse\",\"Wallisellen, Haldenstrasse\",\"Wallisellen, Friedhof\",\"Wallisellen, Schulhaus B\\u00fcrgli\",\"Wallisellen, S\\u00e4ntisstrasse\",\"Wallisellen, Guggenb\\u00fchlstrasse\",\"Wallisellen, Glatt (Tram)\",\"R\\u00fcmlang, H\\u00f6rnlistrasse\",\"Z\\u00fcrich, Schiffbau\",\"Kilchberg ZH, Breitloo\",\"Kilchberg ZH, Emilienheim\",\"Kilchberg ZH, Obere Hornhalde\",\"Z\\u00fcrich, Schanzackerstrasse\",\"D\\u00fcbendorf, Hochbord Nord\",\"Opfikon, Schwimmbad\",\"Dietlikon, Fuchshalde\",\"Dietlikon, Hinentalstrasse\",\"Dietlikon, In Lampitz\\u00e4ckern\",\"Dietlikon, Lettenstrasse\",\"Dietlikon, Riedenerstrasse\",\"Dietlikon, Zentrum\",\"Thalwil, Sonnenberg\",\"R\\u00fcmlang, Heuelstrasse\",\"R\\u00fcmlang, Ifangstrasse\",\"R\\u00fcmlang, Chilestieg\",\"R\\u00fcmlang, Hofwisenunterf\\u00fchrung\",\"R\\u00fcmlang, Z\\u00fcrichweg\",\"Adliswil, Grundstrasse\",\"Z\\u00fcrich, Glaubtenstrasse Nord\",\"Binz bei Maur, Tw\\u00e4racher\",\"D\\u00fcbendorf, Hochbord S\\u00fcd\"],\"js_property_callbacks\":{\"change:value\":[{\"id\":\"1053\",\"type\":\"CustomJS\"}]},\"sizing_mode\":\"scale_both\",\"title\":\"From:\"},\"id\":\"1052\",\"type\":\"AutocompleteInput\"},{\"attributes\":{},\"id\":\"1030\",\"type\":\"PanTool\"}],\"root_ids\":[\"1063\"]},\"title\":\"Bokeh Application\",\"version\":\"1.2.0\"}};\n",
       "  var render_items = [{\"docid\":\"6a5b94c5-be56-4502-85f6-803efdc518a7\",\"notebook_comms_target\":\"1071\",\"roots\":{\"1063\":\"fa0aa651-6c5d-408c-bfe2-9c7e04b118b0\"}}];\n",
       "  root.Bokeh.embed.embed_items_notebook(docs_json, render_items);\n",
       "\n",
       "  }\n",
       "  if (root.Bokeh !== undefined) {\n",
       "    embed_document(root);\n",
       "  } else {\n",
       "    var attempts = 0;\n",
       "    var timer = setInterval(function(root) {\n",
       "      if (root.Bokeh !== undefined) {\n",
       "        embed_document(root);\n",
       "        clearInterval(timer);\n",
       "      }\n",
       "      attempts++;\n",
       "      if (attempts > 100) {\n",
       "        console.log(\"Bokeh: ERROR: Unable to run BokehJS code because BokehJS library is missing\");\n",
       "        clearInterval(timer);\n",
       "      }\n",
       "    }, 10, root)\n",
       "  }\n",
       "})(window);"
      ],
      "application/vnd.bokehjs_exec.v0+json": ""
     },
     "metadata": {
      "application/vnd.bokehjs_exec.v0+json": {
       "id": "1063"
      }
     },
     "output_type": "display_data"
    }
   ],
   "source": [
    "lines = []\n",
    "p = figure(x_range=(8.8e5, 10e5), y_range=(59.8e5, 60.1e5),width=600)\n",
    "p.add_tile(CARTODBPOSITRON)\n",
    "p.axis.visible = False\n",
    "\n",
    "source = ColumnDataSource({'lon':[6.05e5],'lat':[68e5]})\n",
    "\n",
    "selected_time,selected_src,selected_dst,selected_cutoff,proba = None,None,None,None,None\n",
    "format_str = \"\"\"\n",
    " function callback(msg){\n",
    "            console.log(\"Python callback returned unexpected message:\", msg)\n",
    "        }\n",
    "var callbacks = {iopub: {output: callback}};\n",
    "console.log(cb_obj.value)\n",
    "if (IPython.notebook.kernel !== undefined) {\n",
    "    var kernel = IPython.notebook.kernel;\n",
    "    cmd = \"%s('\" + cb_obj.value + \"')\";\n",
    "    kernel.execute(cmd , callbacks, {silent : false})\n",
    "}\n",
    "\"\"\"\n",
    "\n",
    "options = [(int(i),\"{}%\".format(int(i))) for i in np.arange(0,101,10)]\n",
    "text_input_time_departure = TextInput(value=\"\", title=\"Departure time:\",sizing_mode='scale_both')\n",
    "text_input_time_departure.js_on_change('value', CustomJS(code=format_str%\"selected_time=\"))\n",
    "text_input_time_cutoff = TextInput(value=\"\", title=\"Maximum arrival time:\",sizing_mode='scale_both')\n",
    "text_input_time_cutoff.js_on_change('value', CustomJS(code=format_str%\"selected_cutoff=\"))\n",
    "thresh_selector = Select(value=\"\", title=\"Probability of completion:\",\n",
    "                                   options=options,sizing_mode='scale_both')\n",
    "thresh_selector.js_on_change('value',CustomJS(code=format_str%\"proba=\"))\n",
    "\n",
    "text_src_station = AutocompleteInput(completions=final_nodes_matrix.name.tolist(), \n",
    "                                     title=\"From:\",sizing_mode='scale_both')\n",
    "text_src_station.js_on_change('value',CustomJS(code=format_str%\"selected_src=\"))\n",
    "text_dst_station = AutocompleteInput(completions=final_nodes_matrix.name.tolist(), title=\"To:\",\n",
    "                                     sizing_mode='scale_both')\n",
    "text_dst_station.js_on_change('value',CustomJS(code=format_str%\"selected_dst=\"))\n",
    "\n",
    "div_path = Div(width=350,text=default_text_div,style={ 'resize': 'horizontal'})\n",
    "button_validate =  Button(label=\"Search\", button_type=\"success\",sizing_mode='scale_both')\n",
    "button_reset =  Button(label=\"Reset\", button_type=\"success\")\n",
    "\n",
    "button_validate.js_on_click(CustomJS(code=format_str%\"find_path\"))\n",
    "button_reset.js_on_click(CustomJS(code=format_str%\"reset\"))\n",
    "\n",
    "## Text input as a title\n",
    "\n",
    "## Layout widgets next to the plot                     \n",
    "\n",
    "controls = row_l(text_input_time_departure,text_input_time_cutoff,text_src_station,text_dst_station,thresh_selector,button_validate)\n",
    "layout = column_l(controls,row_l(p,div_path,width=950),button_reset,width=950,height=800)\n",
    "display(HTML('''<style>\n",
    "    .bk.bk-menu.bk-below {\n",
    "    white-space: pre;\n",
    "    text-overflow: ellipsis;\n",
    "    max-height: 200px;\n",
    "    scroll-behavior: smooth;\n",
    "    overflow: auto;\n",
    "}\n",
    "</style>\n",
    "'''))\n",
    "\n",
    "with open('style.html') as f:\n",
    "    display(HTML(f.read()))\n",
    "    \n",
    "bokeh_handle = show(layout, notebook_handle=True)"
   ]
  },
  {
   "cell_type": "markdown",
   "metadata": {},
   "source": [
    "<a id='isochrone'></a>\n",
    "## VI. Isochrone"
   ]
  },
  {
   "cell_type": "markdown",
   "metadata": {},
   "source": [
    "An isochrone is defined as \"a line drawn on a map connecting points at which something occurs or arrives at the same time\". In this part, we visualize the regions on a map which are reachable  within the given cutoff time from a given source station when a passenger starts at a given start time with atleast threshold certainty."
   ]
  },
  {
   "cell_type": "markdown",
   "metadata": {},
   "source": [
    "Let us visualize the isochrone map for source=`Zürich HB`, when we start at `start time = 08:00 am`, with `cutoff time = 08:15 am` and `threshold=20%` "
   ]
  },
  {
   "cell_type": "code",
   "execution_count": null,
   "metadata": {},
   "outputs": [],
   "source": [
    "source = 'Zürich HB'\n",
    "source_coords = (G.node[source]['lat'], G.node[source]['lon'])\n",
    "start_time = '08:00:00'\n",
    "cutoff_time = '08:20:00'\n",
    "threshold = 0.20\n",
    "\n",
    "get_isochrone_map(source=source, source_coords=source_coords, \n",
    "               start_time=start_time, cutoff_time=cutoff_time, threshold=threshold, G=G)"
   ]
  },
  {
   "cell_type": "markdown",
   "metadata": {},
   "source": [
    "The same plot with a higher threshold. We would expect that the reachable region will be a subset of the above isochrone."
   ]
  },
  {
   "cell_type": "code",
   "execution_count": null,
   "metadata": {},
   "outputs": [],
   "source": [
    "source = 'Zürich HB'\n",
    "source_coords = (G.node['Zürich HB']['lat'], G.node['Zürich HB']['lon'])\n",
    "start_time = '08:00:00'\n",
    "cutoff_time = '08:20:00'\n",
    "threshold = 0.95\n",
    "\n",
    "get_isochrone_map(source=source, source_coords=source_coords, \n",
    "               start_time=start_time, cutoff_time=cutoff_time, threshold=threshold, G = G)"
   ]
  },
  {
   "cell_type": "markdown",
   "metadata": {},
   "source": [
    "The resulting maps can be found in the \"maps/\" folder"
   ]
  },
  {
   "cell_type": "code",
   "execution_count": 154,
   "metadata": {},
   "outputs": [],
   "source": [
    "sc.stop()"
   ]
  },
  {
   "cell_type": "markdown",
   "metadata": {},
   "source": [
    "<a id='improv'></a>\n",
    "## VII. Possible optimizations"
   ]
  },
  {
   "cell_type": "markdown",
   "metadata": {},
   "source": [
    "Due to time constraint,we could not implement all the features we wanted. Below are some improvement that could be added to the current pipeline:\n",
    "    - Limiting the number of walks in a path by pruning consecutive walk edges\n",
    "    - Impose a maximum number of hops in a trip\n",
    "    - Optimize the current djiskra algorithm by sorting the adjacency lists of every node by departure time. \n",
    "    - Impute missing delay measurments"
   ]
  }
 ],
 "metadata": {
  "kernelspec": {
   "display_name": "Python 3",
   "language": "python",
   "name": "python3"
  },
  "language_info": {
   "codemirror_mode": {
    "name": "ipython",
    "version": 3
   },
   "file_extension": ".py",
   "mimetype": "text/x-python",
   "name": "python",
   "nbconvert_exporter": "python",
   "pygments_lexer": "ipython3",
   "version": "3.7.3"
  }
 },
 "nbformat": 4,
 "nbformat_minor": 2
}
